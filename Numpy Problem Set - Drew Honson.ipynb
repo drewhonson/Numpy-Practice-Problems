{
 "cells": [
  {
   "cell_type": "markdown",
   "metadata": {
    "button": false,
    "new_sheet": false,
    "run_control": {
     "read_only": false
    }
   },
   "source": [
    "# 100 numpy exercises\n",
    "\n",
    "###Drew Honson\n",
    "\n",
    "This is a collection of exercises that have been collected in the numpy mailing list, on stack overflow and in the numpy documentation. The goal of this collection is to offer a quick reference for both old and new users but also to provide a set of exercices for those who teach.\n",
    "\n",
    "\n",
    "If you find an error or think you've a better way to solve some of them, feel free to open an issue at <https://github.com/rougier/numpy-100>"
   ]
  },
  {
   "cell_type": "markdown",
   "metadata": {
    "button": false,
    "new_sheet": false,
    "run_control": {
     "read_only": false
    }
   },
   "source": [
    "#### 1. Import the numpy package under the name `np` (★☆☆)"
   ]
  },
  {
   "cell_type": "code",
   "execution_count": 2,
   "metadata": {
    "button": false,
    "collapsed": true,
    "new_sheet": false,
    "run_control": {
     "read_only": false
    }
   },
   "outputs": [],
   "source": [
    "import numpy as np"
   ]
  },
  {
   "cell_type": "markdown",
   "metadata": {
    "button": false,
    "new_sheet": false,
    "run_control": {
     "read_only": false
    }
   },
   "source": [
    "#### 2. Print the numpy version and the configuration (★☆☆)"
   ]
  },
  {
   "cell_type": "code",
   "execution_count": 5,
   "metadata": {
    "button": false,
    "new_sheet": false,
    "run_control": {
     "read_only": false
    }
   },
   "outputs": [
    {
     "name": "stdout",
     "output_type": "stream",
     "text": [
      "1.12.1\n",
      "<module 'numpy.__config__' from '/Users/honsondd/anaconda/lib/python3.6/site-packages/numpy/__config__.py'>\n"
     ]
    }
   ],
   "source": [
    "print(np.version.version)\n",
    "print(np.__config__)"
   ]
  },
  {
   "cell_type": "markdown",
   "metadata": {
    "button": false,
    "new_sheet": false,
    "run_control": {
     "read_only": false
    }
   },
   "source": [
    "#### 3. Create a null vector of size 10 (★☆☆)"
   ]
  },
  {
   "cell_type": "code",
   "execution_count": 8,
   "metadata": {
    "button": false,
    "collapsed": true,
    "new_sheet": false,
    "run_control": {
     "read_only": false
    }
   },
   "outputs": [],
   "source": [
    "ten_zeroes = np.zeros(10)"
   ]
  },
  {
   "cell_type": "markdown",
   "metadata": {
    "button": false,
    "new_sheet": false,
    "run_control": {
     "read_only": false
    }
   },
   "source": [
    "#### 4.  How to find the memory size of any array (★☆☆)"
   ]
  },
  {
   "cell_type": "code",
   "execution_count": 9,
   "metadata": {
    "button": false,
    "new_sheet": false,
    "run_control": {
     "read_only": false
    }
   },
   "outputs": [
    {
     "data": {
      "text/plain": [
       "80"
      ]
     },
     "execution_count": 9,
     "metadata": {},
     "output_type": "execute_result"
    }
   ],
   "source": [
    "ten_zeroes.nbytes"
   ]
  },
  {
   "cell_type": "markdown",
   "metadata": {
    "button": false,
    "new_sheet": false,
    "run_control": {
     "read_only": false
    }
   },
   "source": [
    "#### 5.  How to get the documentation of the numpy add function from the command line? (★☆☆)"
   ]
  },
  {
   "cell_type": "code",
   "execution_count": 12,
   "metadata": {
    "button": false,
    "new_sheet": false,
    "run_control": {
     "read_only": false
    }
   },
   "outputs": [
    {
     "name": "stdout",
     "output_type": "stream",
     "text": [
      "Help on ufunc object:\n",
      "\n",
      "add = class ufunc(builtins.object)\n",
      " |  Functions that operate element by element on whole arrays.\n",
      " |  \n",
      " |  To see the documentation for a specific ufunc, use np.info().  For\n",
      " |  example, np.info(np.sin).  Because ufuncs are written in C\n",
      " |  (for speed) and linked into Python with NumPy's ufunc facility,\n",
      " |  Python's help() function finds this page whenever help() is called\n",
      " |  on a ufunc.\n",
      " |  \n",
      " |  A detailed explanation of ufuncs can be found in the \"ufuncs.rst\"\n",
      " |  file in the NumPy reference guide.\n",
      " |  \n",
      " |  Unary ufuncs:\n",
      " |  =============\n",
      " |  \n",
      " |  op(X, out=None)\n",
      " |  Apply op to X elementwise\n",
      " |  \n",
      " |  Parameters\n",
      " |  ----------\n",
      " |  X : array_like\n",
      " |      Input array.\n",
      " |  out : array_like\n",
      " |      An array to store the output. Must be the same shape as `X`.\n",
      " |  \n",
      " |  Returns\n",
      " |  -------\n",
      " |  r : array_like\n",
      " |      `r` will have the same shape as `X`; if out is provided, `r`\n",
      " |      will be equal to out.\n",
      " |  \n",
      " |  Binary ufuncs:\n",
      " |  ==============\n",
      " |  \n",
      " |  op(X, Y, out=None)\n",
      " |  Apply `op` to `X` and `Y` elementwise. May \"broadcast\" to make\n",
      " |  the shapes of `X` and `Y` congruent.\n",
      " |  \n",
      " |  The broadcasting rules are:\n",
      " |  \n",
      " |  * Dimensions of length 1 may be prepended to either array.\n",
      " |  * Arrays may be repeated along dimensions of length 1.\n",
      " |  \n",
      " |  Parameters\n",
      " |  ----------\n",
      " |  X : array_like\n",
      " |      First input array.\n",
      " |  Y : array_like\n",
      " |      Second input array.\n",
      " |  out : array_like\n",
      " |      An array to store the output. Must be the same shape as the\n",
      " |      output would have.\n",
      " |  \n",
      " |  Returns\n",
      " |  -------\n",
      " |  r : array_like\n",
      " |      The return value; if out is provided, `r` will be equal to out.\n",
      " |  \n",
      " |  Methods defined here:\n",
      " |  \n",
      " |  __call__(self, /, *args, **kwargs)\n",
      " |      Call self as a function.\n",
      " |  \n",
      " |  __repr__(self, /)\n",
      " |      Return repr(self).\n",
      " |  \n",
      " |  __str__(self, /)\n",
      " |      Return str(self).\n",
      " |  \n",
      " |  accumulate(...)\n",
      " |      accumulate(array, axis=0, dtype=None, out=None, keepdims=None)\n",
      " |      \n",
      " |      Accumulate the result of applying the operator to all elements.\n",
      " |      \n",
      " |      For a one-dimensional array, accumulate produces results equivalent to::\n",
      " |      \n",
      " |        r = np.empty(len(A))\n",
      " |        t = op.identity        # op = the ufunc being applied to A's  elements\n",
      " |        for i in range(len(A)):\n",
      " |            t = op(t, A[i])\n",
      " |            r[i] = t\n",
      " |        return r\n",
      " |      \n",
      " |      For example, add.accumulate() is equivalent to np.cumsum().\n",
      " |      \n",
      " |      For a multi-dimensional array, accumulate is applied along only one\n",
      " |      axis (axis zero by default; see Examples below) so repeated use is\n",
      " |      necessary if one wants to accumulate over multiple axes.\n",
      " |      \n",
      " |      Parameters\n",
      " |      ----------\n",
      " |      array : array_like\n",
      " |          The array to act on.\n",
      " |      axis : int, optional\n",
      " |          The axis along which to apply the accumulation; default is zero.\n",
      " |      dtype : data-type code, optional\n",
      " |          The data-type used to represent the intermediate results. Defaults\n",
      " |          to the data-type of the output array if such is provided, or the\n",
      " |          the data-type of the input array if no output array is provided.\n",
      " |      out : ndarray, optional\n",
      " |          A location into which the result is stored. If not provided a\n",
      " |          freshly-allocated array is returned.\n",
      " |      keepdims : bool\n",
      " |          Has no effect. Deprecated, and will be removed in future.\n",
      " |      \n",
      " |      Returns\n",
      " |      -------\n",
      " |      r : ndarray\n",
      " |          The accumulated values. If `out` was supplied, `r` is a reference to\n",
      " |          `out`.\n",
      " |      \n",
      " |      Examples\n",
      " |      --------\n",
      " |      1-D array examples:\n",
      " |      \n",
      " |      >>> np.add.accumulate([2, 3, 5])\n",
      " |      array([ 2,  5, 10])\n",
      " |      >>> np.multiply.accumulate([2, 3, 5])\n",
      " |      array([ 2,  6, 30])\n",
      " |      \n",
      " |      2-D array examples:\n",
      " |      \n",
      " |      >>> I = np.eye(2)\n",
      " |      >>> I\n",
      " |      array([[ 1.,  0.],\n",
      " |             [ 0.,  1.]])\n",
      " |      \n",
      " |      Accumulate along axis 0 (rows), down columns:\n",
      " |      \n",
      " |      >>> np.add.accumulate(I, 0)\n",
      " |      array([[ 1.,  0.],\n",
      " |             [ 1.,  1.]])\n",
      " |      >>> np.add.accumulate(I) # no axis specified = axis zero\n",
      " |      array([[ 1.,  0.],\n",
      " |             [ 1.,  1.]])\n",
      " |      \n",
      " |      Accumulate along axis 1 (columns), through rows:\n",
      " |      \n",
      " |      >>> np.add.accumulate(I, 1)\n",
      " |      array([[ 1.,  1.],\n",
      " |             [ 0.,  1.]])\n",
      " |  \n",
      " |  at(...)\n",
      " |      at(a, indices, b=None)\n",
      " |      \n",
      " |      Performs unbuffered in place operation on operand 'a' for elements\n",
      " |      specified by 'indices'. For addition ufunc, this method is equivalent to\n",
      " |      `a[indices] += b`, except that results are accumulated for elements that\n",
      " |      are indexed more than once. For example, `a[[0,0]] += 1` will only\n",
      " |      increment the first element once because of buffering, whereas\n",
      " |      `add.at(a, [0,0], 1)` will increment the first element twice.\n",
      " |      \n",
      " |      .. versionadded:: 1.8.0\n",
      " |      \n",
      " |      Parameters\n",
      " |      ----------\n",
      " |      a : array_like\n",
      " |          The array to perform in place operation on.\n",
      " |      indices : array_like or tuple\n",
      " |          Array like index object or slice object for indexing into first\n",
      " |          operand. If first operand has multiple dimensions, indices can be a\n",
      " |          tuple of array like index objects or slice objects.\n",
      " |      b : array_like\n",
      " |          Second operand for ufuncs requiring two operands. Operand must be\n",
      " |          broadcastable over first operand after indexing or slicing.\n",
      " |      \n",
      " |      Examples\n",
      " |      --------\n",
      " |      Set items 0 and 1 to their negative values:\n",
      " |      \n",
      " |      >>> a = np.array([1, 2, 3, 4])\n",
      " |      >>> np.negative.at(a, [0, 1])\n",
      " |      >>> print(a)\n",
      " |      array([-1, -2, 3, 4])\n",
      " |      \n",
      " |      ::\n",
      " |      \n",
      " |      Increment items 0 and 1, and increment item 2 twice:\n",
      " |      \n",
      " |      >>> a = np.array([1, 2, 3, 4])\n",
      " |      >>> np.add.at(a, [0, 1, 2, 2], 1)\n",
      " |      >>> print(a)\n",
      " |      array([2, 3, 5, 4])\n",
      " |      \n",
      " |      ::\n",
      " |      \n",
      " |      Add items 0 and 1 in first array to second array,\n",
      " |      and store results in first array:\n",
      " |      \n",
      " |      >>> a = np.array([1, 2, 3, 4])\n",
      " |      >>> b = np.array([1, 2])\n",
      " |      >>> np.add.at(a, [0, 1], b)\n",
      " |      >>> print(a)\n",
      " |      array([2, 4, 3, 4])\n",
      " |  \n",
      " |  outer(...)\n",
      " |      outer(A, B, **kwargs)\n",
      " |      \n",
      " |      Apply the ufunc `op` to all pairs (a, b) with a in `A` and b in `B`.\n",
      " |      \n",
      " |      Let ``M = A.ndim``, ``N = B.ndim``. Then the result, `C`, of\n",
      " |      ``op.outer(A, B)`` is an array of dimension M + N such that:\n",
      " |      \n",
      " |      .. math:: C[i_0, ..., i_{M-1}, j_0, ..., j_{N-1}] =\n",
      " |         op(A[i_0, ..., i_{M-1}], B[j_0, ..., j_{N-1}])\n",
      " |      \n",
      " |      For `A` and `B` one-dimensional, this is equivalent to::\n",
      " |      \n",
      " |        r = empty(len(A),len(B))\n",
      " |        for i in range(len(A)):\n",
      " |            for j in range(len(B)):\n",
      " |                r[i,j] = op(A[i], B[j]) # op = ufunc in question\n",
      " |      \n",
      " |      Parameters\n",
      " |      ----------\n",
      " |      A : array_like\n",
      " |          First array\n",
      " |      B : array_like\n",
      " |          Second array\n",
      " |      kwargs : any\n",
      " |          Arguments to pass on to the ufunc. Typically `dtype` or `out`.\n",
      " |      \n",
      " |      Returns\n",
      " |      -------\n",
      " |      r : ndarray\n",
      " |          Output array\n",
      " |      \n",
      " |      See Also\n",
      " |      --------\n",
      " |      numpy.outer\n",
      " |      \n",
      " |      Examples\n",
      " |      --------\n",
      " |      >>> np.multiply.outer([1, 2, 3], [4, 5, 6])\n",
      " |      array([[ 4,  5,  6],\n",
      " |             [ 8, 10, 12],\n",
      " |             [12, 15, 18]])\n",
      " |      \n",
      " |      A multi-dimensional example:\n",
      " |      \n",
      " |      >>> A = np.array([[1, 2, 3], [4, 5, 6]])\n",
      " |      >>> A.shape\n",
      " |      (2, 3)\n",
      " |      >>> B = np.array([[1, 2, 3, 4]])\n",
      " |      >>> B.shape\n",
      " |      (1, 4)\n",
      " |      >>> C = np.multiply.outer(A, B)\n",
      " |      >>> C.shape; C\n",
      " |      (2, 3, 1, 4)\n",
      " |      array([[[[ 1,  2,  3,  4]],\n",
      " |              [[ 2,  4,  6,  8]],\n",
      " |              [[ 3,  6,  9, 12]]],\n",
      " |             [[[ 4,  8, 12, 16]],\n",
      " |              [[ 5, 10, 15, 20]],\n",
      " |              [[ 6, 12, 18, 24]]]])\n",
      " |  \n",
      " |  reduce(...)\n",
      " |      reduce(a, axis=0, dtype=None, out=None, keepdims=False)\n",
      " |      \n",
      " |      Reduces `a`'s dimension by one, by applying ufunc along one axis.\n",
      " |      \n",
      " |      Let :math:`a.shape = (N_0, ..., N_i, ..., N_{M-1})`.  Then\n",
      " |      :math:`ufunc.reduce(a, axis=i)[k_0, ..,k_{i-1}, k_{i+1}, .., k_{M-1}]` =\n",
      " |      the result of iterating `j` over :math:`range(N_i)`, cumulatively applying\n",
      " |      ufunc to each :math:`a[k_0, ..,k_{i-1}, j, k_{i+1}, .., k_{M-1}]`.\n",
      " |      For a one-dimensional array, reduce produces results equivalent to:\n",
      " |      ::\n",
      " |      \n",
      " |       r = op.identity # op = ufunc\n",
      " |       for i in range(len(A)):\n",
      " |         r = op(r, A[i])\n",
      " |       return r\n",
      " |      \n",
      " |      For example, add.reduce() is equivalent to sum().\n",
      " |      \n",
      " |      Parameters\n",
      " |      ----------\n",
      " |      a : array_like\n",
      " |          The array to act on.\n",
      " |      axis : None or int or tuple of ints, optional\n",
      " |          Axis or axes along which a reduction is performed.\n",
      " |          The default (`axis` = 0) is perform a reduction over the first\n",
      " |          dimension of the input array. `axis` may be negative, in\n",
      " |          which case it counts from the last to the first axis.\n",
      " |      \n",
      " |          .. versionadded:: 1.7.0\n",
      " |      \n",
      " |          If this is `None`, a reduction is performed over all the axes.\n",
      " |          If this is a tuple of ints, a reduction is performed on multiple\n",
      " |          axes, instead of a single axis or all the axes as before.\n",
      " |      \n",
      " |          For operations which are either not commutative or not associative,\n",
      " |          doing a reduction over multiple axes is not well-defined. The\n",
      " |          ufuncs do not currently raise an exception in this case, but will\n",
      " |          likely do so in the future.\n",
      " |      dtype : data-type code, optional\n",
      " |          The type used to represent the intermediate results. Defaults\n",
      " |          to the data-type of the output array if this is provided, or\n",
      " |          the data-type of the input array if no output array is provided.\n",
      " |      out : ndarray, optional\n",
      " |          A location into which the result is stored. If not provided, a\n",
      " |          freshly-allocated array is returned.\n",
      " |      keepdims : bool, optional\n",
      " |          If this is set to True, the axes which are reduced are left\n",
      " |          in the result as dimensions with size one. With this option,\n",
      " |          the result will broadcast correctly against the original `arr`.\n",
      " |      \n",
      " |          .. versionadded:: 1.7.0\n",
      " |      \n",
      " |      Returns\n",
      " |      -------\n",
      " |      r : ndarray\n",
      " |          The reduced array. If `out` was supplied, `r` is a reference to it.\n",
      " |      \n",
      " |      Examples\n",
      " |      --------\n",
      " |      >>> np.multiply.reduce([2,3,5])\n",
      " |      30\n",
      " |      \n",
      " |      A multi-dimensional array example:\n",
      " |      \n",
      " |      >>> X = np.arange(8).reshape((2,2,2))\n",
      " |      >>> X\n",
      " |      array([[[0, 1],\n",
      " |              [2, 3]],\n",
      " |             [[4, 5],\n",
      " |              [6, 7]]])\n",
      " |      >>> np.add.reduce(X, 0)\n",
      " |      array([[ 4,  6],\n",
      " |             [ 8, 10]])\n",
      " |      >>> np.add.reduce(X) # confirm: default axis value is 0\n",
      " |      array([[ 4,  6],\n",
      " |             [ 8, 10]])\n",
      " |      >>> np.add.reduce(X, 1)\n",
      " |      array([[ 2,  4],\n",
      " |             [10, 12]])\n",
      " |      >>> np.add.reduce(X, 2)\n",
      " |      array([[ 1,  5],\n",
      " |             [ 9, 13]])\n",
      " |  \n",
      " |  reduceat(...)\n",
      " |      reduceat(a, indices, axis=0, dtype=None, out=None)\n",
      " |      \n",
      " |      Performs a (local) reduce with specified slices over a single axis.\n",
      " |      \n",
      " |      For i in ``range(len(indices))``, `reduceat` computes\n",
      " |      ``ufunc.reduce(a[indices[i]:indices[i+1]])``, which becomes the i-th\n",
      " |      generalized \"row\" parallel to `axis` in the final result (i.e., in a\n",
      " |      2-D array, for example, if `axis = 0`, it becomes the i-th row, but if\n",
      " |      `axis = 1`, it becomes the i-th column).  There are three exceptions to this:\n",
      " |      \n",
      " |      * when ``i = len(indices) - 1`` (so for the last index),\n",
      " |        ``indices[i+1] = a.shape[axis]``.\n",
      " |      * if ``indices[i] >= indices[i + 1]``, the i-th generalized \"row\" is\n",
      " |        simply ``a[indices[i]]``.\n",
      " |      * if ``indices[i] >= len(a)`` or ``indices[i] < 0``, an error is raised.\n",
      " |      \n",
      " |      The shape of the output depends on the size of `indices`, and may be\n",
      " |      larger than `a` (this happens if ``len(indices) > a.shape[axis]``).\n",
      " |      \n",
      " |      Parameters\n",
      " |      ----------\n",
      " |      a : array_like\n",
      " |          The array to act on.\n",
      " |      indices : array_like\n",
      " |          Paired indices, comma separated (not colon), specifying slices to\n",
      " |          reduce.\n",
      " |      axis : int, optional\n",
      " |          The axis along which to apply the reduceat.\n",
      " |      dtype : data-type code, optional\n",
      " |          The type used to represent the intermediate results. Defaults\n",
      " |          to the data type of the output array if this is provided, or\n",
      " |          the data type of the input array if no output array is provided.\n",
      " |      out : ndarray, optional\n",
      " |          A location into which the result is stored. If not provided a\n",
      " |          freshly-allocated array is returned.\n",
      " |      \n",
      " |      Returns\n",
      " |      -------\n",
      " |      r : ndarray\n",
      " |          The reduced values. If `out` was supplied, `r` is a reference to\n",
      " |          `out`.\n",
      " |      \n",
      " |      Notes\n",
      " |      -----\n",
      " |      A descriptive example:\n",
      " |      \n",
      " |      If `a` is 1-D, the function `ufunc.accumulate(a)` is the same as\n",
      " |      ``ufunc.reduceat(a, indices)[::2]`` where `indices` is\n",
      " |      ``range(len(array) - 1)`` with a zero placed\n",
      " |      in every other element:\n",
      " |      ``indices = zeros(2 * len(a) - 1)``, ``indices[1::2] = range(1, len(a))``.\n",
      " |      \n",
      " |      Don't be fooled by this attribute's name: `reduceat(a)` is not\n",
      " |      necessarily smaller than `a`.\n",
      " |      \n",
      " |      Examples\n",
      " |      --------\n",
      " |      To take the running sum of four successive values:\n",
      " |      \n",
      " |      >>> np.add.reduceat(np.arange(8),[0,4, 1,5, 2,6, 3,7])[::2]\n",
      " |      array([ 6, 10, 14, 18])\n",
      " |      \n",
      " |      A 2-D example:\n",
      " |      \n",
      " |      >>> x = np.linspace(0, 15, 16).reshape(4,4)\n",
      " |      >>> x\n",
      " |      array([[  0.,   1.,   2.,   3.],\n",
      " |             [  4.,   5.,   6.,   7.],\n",
      " |             [  8.,   9.,  10.,  11.],\n",
      " |             [ 12.,  13.,  14.,  15.]])\n",
      " |      \n",
      " |      ::\n",
      " |      \n",
      " |       # reduce such that the result has the following five rows:\n",
      " |       # [row1 + row2 + row3]\n",
      " |       # [row4]\n",
      " |       # [row2]\n",
      " |       # [row3]\n",
      " |       # [row1 + row2 + row3 + row4]\n",
      " |      \n",
      " |      >>> np.add.reduceat(x, [0, 3, 1, 2, 0])\n",
      " |      array([[ 12.,  15.,  18.,  21.],\n",
      " |             [ 12.,  13.,  14.,  15.],\n",
      " |             [  4.,   5.,   6.,   7.],\n",
      " |             [  8.,   9.,  10.,  11.],\n",
      " |             [ 24.,  28.,  32.,  36.]])\n",
      " |      \n",
      " |      ::\n",
      " |      \n",
      " |       # reduce such that result has the following two columns:\n",
      " |       # [col1 * col2 * col3, col4]\n",
      " |      \n",
      " |      >>> np.multiply.reduceat(x, [0, 3], 1)\n",
      " |      array([[    0.,     3.],\n",
      " |             [  120.,     7.],\n",
      " |             [  720.,    11.],\n",
      " |             [ 2184.,    15.]])\n",
      " |  \n",
      " |  ----------------------------------------------------------------------\n",
      " |  Data descriptors defined here:\n",
      " |  \n",
      " |  identity\n",
      " |      The identity value.\n",
      " |      \n",
      " |      Data attribute containing the identity element for the ufunc, if it has one.\n",
      " |      If it does not, the attribute value is None.\n",
      " |      \n",
      " |      Examples\n",
      " |      --------\n",
      " |      >>> np.add.identity\n",
      " |      0\n",
      " |      >>> np.multiply.identity\n",
      " |      1\n",
      " |      >>> np.power.identity\n",
      " |      1\n",
      " |      >>> print(np.exp.identity)\n",
      " |      None\n",
      " |  \n",
      " |  nargs\n",
      " |      The number of arguments.\n",
      " |      \n",
      " |      Data attribute containing the number of arguments the ufunc takes, including\n",
      " |      optional ones.\n",
      " |      \n",
      " |      Notes\n",
      " |      -----\n",
      " |      Typically this value will be one more than what you might expect because all\n",
      " |      ufuncs take  the optional \"out\" argument.\n",
      " |      \n",
      " |      Examples\n",
      " |      --------\n",
      " |      >>> np.add.nargs\n",
      " |      3\n",
      " |      >>> np.multiply.nargs\n",
      " |      3\n",
      " |      >>> np.power.nargs\n",
      " |      3\n",
      " |      >>> np.exp.nargs\n",
      " |      2\n",
      " |  \n",
      " |  nin\n",
      " |      The number of inputs.\n",
      " |      \n",
      " |      Data attribute containing the number of arguments the ufunc treats as input.\n",
      " |      \n",
      " |      Examples\n",
      " |      --------\n",
      " |      >>> np.add.nin\n",
      " |      2\n",
      " |      >>> np.multiply.nin\n",
      " |      2\n",
      " |      >>> np.power.nin\n",
      " |      2\n",
      " |      >>> np.exp.nin\n",
      " |      1\n",
      " |  \n",
      " |  nout\n",
      " |      The number of outputs.\n",
      " |      \n",
      " |      Data attribute containing the number of arguments the ufunc treats as output.\n",
      " |      \n",
      " |      Notes\n",
      " |      -----\n",
      " |      Since all ufuncs can take output arguments, this will always be (at least) 1.\n",
      " |      \n",
      " |      Examples\n",
      " |      --------\n",
      " |      >>> np.add.nout\n",
      " |      1\n",
      " |      >>> np.multiply.nout\n",
      " |      1\n",
      " |      >>> np.power.nout\n",
      " |      1\n",
      " |      >>> np.exp.nout\n",
      " |      1\n",
      " |  \n",
      " |  ntypes\n",
      " |      The number of types.\n",
      " |      \n",
      " |      The number of numerical NumPy types - of which there are 18 total - on which\n",
      " |      the ufunc can operate.\n",
      " |      \n",
      " |      See Also\n",
      " |      --------\n",
      " |      numpy.ufunc.types\n",
      " |      \n",
      " |      Examples\n",
      " |      --------\n",
      " |      >>> np.add.ntypes\n",
      " |      18\n",
      " |      >>> np.multiply.ntypes\n",
      " |      18\n",
      " |      >>> np.power.ntypes\n",
      " |      17\n",
      " |      >>> np.exp.ntypes\n",
      " |      7\n",
      " |      >>> np.remainder.ntypes\n",
      " |      14\n",
      " |  \n",
      " |  signature\n",
      " |  \n",
      " |  types\n",
      " |      Returns a list with types grouped input->output.\n",
      " |      \n",
      " |      Data attribute listing the data-type \"Domain-Range\" groupings the ufunc can\n",
      " |      deliver. The data-types are given using the character codes.\n",
      " |      \n",
      " |      See Also\n",
      " |      --------\n",
      " |      numpy.ufunc.ntypes\n",
      " |      \n",
      " |      Examples\n",
      " |      --------\n",
      " |      >>> np.add.types\n",
      " |      ['??->?', 'bb->b', 'BB->B', 'hh->h', 'HH->H', 'ii->i', 'II->I', 'll->l',\n",
      " |      'LL->L', 'qq->q', 'QQ->Q', 'ff->f', 'dd->d', 'gg->g', 'FF->F', 'DD->D',\n",
      " |      'GG->G', 'OO->O']\n",
      " |      \n",
      " |      >>> np.multiply.types\n",
      " |      ['??->?', 'bb->b', 'BB->B', 'hh->h', 'HH->H', 'ii->i', 'II->I', 'll->l',\n",
      " |      'LL->L', 'qq->q', 'QQ->Q', 'ff->f', 'dd->d', 'gg->g', 'FF->F', 'DD->D',\n",
      " |      'GG->G', 'OO->O']\n",
      " |      \n",
      " |      >>> np.power.types\n",
      " |      ['bb->b', 'BB->B', 'hh->h', 'HH->H', 'ii->i', 'II->I', 'll->l', 'LL->L',\n",
      " |      'qq->q', 'QQ->Q', 'ff->f', 'dd->d', 'gg->g', 'FF->F', 'DD->D', 'GG->G',\n",
      " |      'OO->O']\n",
      " |      \n",
      " |      >>> np.exp.types\n",
      " |      ['f->f', 'd->d', 'g->g', 'F->F', 'D->D', 'G->G', 'O->O']\n",
      " |      \n",
      " |      >>> np.remainder.types\n",
      " |      ['bb->b', 'BB->B', 'hh->h', 'HH->H', 'ii->i', 'II->I', 'll->l', 'LL->L',\n",
      " |      'qq->q', 'QQ->Q', 'ff->f', 'dd->d', 'gg->g', 'OO->O']\n",
      "\n"
     ]
    }
   ],
   "source": [
    "help(np.add)"
   ]
  },
  {
   "cell_type": "markdown",
   "metadata": {
    "button": false,
    "new_sheet": false,
    "run_control": {
     "read_only": false
    }
   },
   "source": [
    "#### 6.  Create a null vector of size 10 but the fifth value which is 1 (★☆☆)"
   ]
  },
  {
   "cell_type": "code",
   "execution_count": 17,
   "metadata": {
    "button": false,
    "new_sheet": false,
    "run_control": {
     "read_only": false
    }
   },
   "outputs": [
    {
     "name": "stdout",
     "output_type": "stream",
     "text": [
      "[ 0.  0.  0.  0.  1.  0.  0.  0.  0.  0.]\n"
     ]
    }
   ],
   "source": [
    "ten_zeroes[4] = 1\n",
    "print(ten_zeroes)"
   ]
  },
  {
   "cell_type": "markdown",
   "metadata": {
    "button": false,
    "new_sheet": false,
    "run_control": {
     "read_only": false
    }
   },
   "source": [
    "#### 7.  Create a vector with values ranging from 10 to 49 (★☆☆)"
   ]
  },
  {
   "cell_type": "code",
   "execution_count": 21,
   "metadata": {
    "button": false,
    "new_sheet": false,
    "run_control": {
     "read_only": false
    }
   },
   "outputs": [
    {
     "name": "stdout",
     "output_type": "stream",
     "text": [
      "[10 11 12 13 14 15 16 17 18 19 20 21 22 23 24 25 26 27 28 29 30 31 32 33 34\n",
      " 35 36 37 38 39 40 41 42 43 44 45 46 47 48 49]\n"
     ]
    }
   ],
   "source": [
    "ten_fortynine = np.arange(10,50)\n",
    "print(ten_fortynine)"
   ]
  },
  {
   "cell_type": "markdown",
   "metadata": {
    "button": false,
    "new_sheet": false,
    "run_control": {
     "read_only": false
    }
   },
   "source": [
    "#### 8.  Reverse a vector (first element becomes last) (★☆☆)"
   ]
  },
  {
   "cell_type": "code",
   "execution_count": 25,
   "metadata": {
    "button": false,
    "new_sheet": false,
    "run_control": {
     "read_only": false
    }
   },
   "outputs": [
    {
     "name": "stdout",
     "output_type": "stream",
     "text": [
      "[49 48 47 46 45 44 43 42 41 40 39 38 37 36 35 34 33 32 31 30 29 28 27 26 25\n",
      " 24 23 22 21 20 19 18 17 16 15 14 13 12 11 10]\n"
     ]
    }
   ],
   "source": [
    "ten_fortynine_flip = np.flip(ten_fortynine, 0)\n",
    "print(ten_fortynine_flip)"
   ]
  },
  {
   "cell_type": "markdown",
   "metadata": {
    "button": false,
    "new_sheet": false,
    "run_control": {
     "read_only": false
    }
   },
   "source": [
    "#### 9.  Create a 3x3 matrix with values ranging from 0 to 8 (★☆☆)"
   ]
  },
  {
   "cell_type": "code",
   "execution_count": 26,
   "metadata": {
    "button": false,
    "new_sheet": false,
    "run_control": {
     "read_only": false
    }
   },
   "outputs": [
    {
     "name": "stdout",
     "output_type": "stream",
     "text": [
      "[[0 1 2]\n",
      " [3 4 5]\n",
      " [6 7 8]]\n"
     ]
    }
   ],
   "source": [
    "threexthree = np.arange(9).reshape(3,3)\n",
    "print(threexthree)"
   ]
  },
  {
   "cell_type": "markdown",
   "metadata": {
    "button": false,
    "new_sheet": false,
    "run_control": {
     "read_only": false
    }
   },
   "source": [
    "#### 10. Find indices of non-zero elements from \\[1,2,0,0,4,0\\] (★☆☆)"
   ]
  },
  {
   "cell_type": "code",
   "execution_count": 3,
   "metadata": {
    "button": false,
    "new_sheet": false,
    "run_control": {
     "read_only": false
    }
   },
   "outputs": [
    {
     "name": "stdout",
     "output_type": "stream",
     "text": [
      "[0, 1, 4]\n"
     ]
    }
   ],
   "source": [
    "import numpy as np\n",
    "nz_elem = np.array([1,2,0,0,4,0])\n",
    "nz_index = []\n",
    "for i,v in enumerate(nz_elem):\n",
    "    if v != 0:\n",
    "        nz_index.append(i)\n",
    "print(nz_index)"
   ]
  },
  {
   "cell_type": "markdown",
   "metadata": {
    "button": false,
    "new_sheet": false,
    "run_control": {
     "read_only": false
    }
   },
   "source": [
    "#### 11. Create a 3x3 identity matrix (★☆☆)"
   ]
  },
  {
   "cell_type": "code",
   "execution_count": 6,
   "metadata": {
    "button": false,
    "new_sheet": false,
    "run_control": {
     "read_only": false
    }
   },
   "outputs": [
    {
     "name": "stdout",
     "output_type": "stream",
     "text": [
      "[[ 1.  0.  0.]\n",
      " [ 0.  1.  0.]\n",
      " [ 0.  0.  1.]]\n"
     ]
    }
   ],
   "source": [
    "id_matrix = np.eye(3)\n",
    "print(id_matrix)"
   ]
  },
  {
   "cell_type": "markdown",
   "metadata": {
    "button": false,
    "new_sheet": false,
    "run_control": {
     "read_only": false
    }
   },
   "source": [
    "#### 12. Create a 3x3x3 array with random values (★☆☆)"
   ]
  },
  {
   "cell_type": "code",
   "execution_count": 6,
   "metadata": {
    "button": false,
    "new_sheet": false,
    "run_control": {
     "read_only": false
    }
   },
   "outputs": [
    {
     "name": "stdout",
     "output_type": "stream",
     "text": [
      "[[[ 4 40 39]\n",
      "  [82 98 27]\n",
      "  [79 31 80]]\n",
      "\n",
      " [[51 36 29]\n",
      "  [39  6 10]\n",
      "  [ 6 25 14]]\n",
      "\n",
      " [[88 78 81]\n",
      "  [48 26 11]\n",
      "  [81 54 91]]]\n"
     ]
    }
   ],
   "source": [
    "import numpy as np\n",
    "twentyseven = np.random.randint(0, 100, (3,3,3))\n",
    "print(twentyseven)"
   ]
  },
  {
   "cell_type": "markdown",
   "metadata": {
    "button": false,
    "new_sheet": false,
    "run_control": {
     "read_only": false
    }
   },
   "source": [
    "#### 13. Create a 10x10 array with random values and find the minimum and maximum values (★☆☆)"
   ]
  },
  {
   "cell_type": "code",
   "execution_count": 8,
   "metadata": {
    "button": false,
    "new_sheet": false,
    "run_control": {
     "read_only": false
    }
   },
   "outputs": [
    {
     "name": "stdout",
     "output_type": "stream",
     "text": [
      "[[82 55 53 31 50 45 78 23 75 48]\n",
      " [33 42 96 57 48  1 45  0 87 39]\n",
      " [92 36 74 51 15 44 43 91 93 21]\n",
      " [65 89 95 43 95 45 55 94 53 47]\n",
      " [69 68 66 27 42 29  0 71 47 40]\n",
      " [ 4 70  5 54 70 52  1 90  9  4]\n",
      " [15 95 82  9 44 93 91 39 90 78]\n",
      " [30 87 87  0 66  2 83 84 44 45]\n",
      " [ 8 53 59 92 19 49 19 68 58 57]\n",
      " [87 22 78 55  5 46 42 33 68  2]]\n",
      "Maximum Value:  96\n",
      "Minimum Value:  0\n"
     ]
    }
   ],
   "source": [
    "one_hunnid = np.random.randint(0,100,(10,10))\n",
    "print(one_hunnid)\n",
    "print(\"Maximum Value:  \" + str(one_hunnid.max()))\n",
    "print(\"Minimum Value:  \" + str(one_hunnid.min()))"
   ]
  },
  {
   "cell_type": "markdown",
   "metadata": {
    "button": false,
    "new_sheet": false,
    "run_control": {
     "read_only": false
    }
   },
   "source": [
    "#### 14. Create a random vector of size 30 and find the mean value (★☆☆)"
   ]
  },
  {
   "cell_type": "code",
   "execution_count": 9,
   "metadata": {
    "button": false,
    "new_sheet": false,
    "run_control": {
     "read_only": false
    }
   },
   "outputs": [
    {
     "name": "stdout",
     "output_type": "stream",
     "text": [
      "[26 82 94 94 58 90 73 35  9 21 20 67 27 82 66 97 24 65  9 93 27  2 80 15 71\n",
      " 37 97 32 31 85]\n",
      "53.6333333333\n"
     ]
    }
   ],
   "source": [
    "thirty = np.random.randint(0,100,30)\n",
    "print(thirty)\n",
    "print(thirty.mean())"
   ]
  },
  {
   "cell_type": "markdown",
   "metadata": {
    "button": false,
    "new_sheet": false,
    "run_control": {
     "read_only": false
    }
   },
   "source": [
    "#### 15. Create a 2d array with 1 on the border and 0 inside (★☆☆)"
   ]
  },
  {
   "cell_type": "code",
   "execution_count": 13,
   "metadata": {
    "button": false,
    "new_sheet": false,
    "run_control": {
     "read_only": false
    }
   },
   "outputs": [
    {
     "name": "stdout",
     "output_type": "stream",
     "text": [
      "[[ 1.  1.  1.  1.  1.  1.  1.  1.  1.  1.]\n",
      " [ 1.  0.  0.  0.  0.  0.  0.  0.  0.  1.]\n",
      " [ 1.  0.  0.  0.  0.  0.  0.  0.  0.  1.]\n",
      " [ 1.  0.  0.  0.  0.  0.  0.  0.  0.  1.]\n",
      " [ 1.  0.  0.  0.  0.  0.  0.  0.  0.  1.]\n",
      " [ 1.  0.  0.  0.  0.  0.  0.  0.  0.  1.]\n",
      " [ 1.  0.  0.  0.  0.  0.  0.  0.  0.  1.]\n",
      " [ 1.  0.  0.  0.  0.  0.  0.  0.  0.  1.]\n",
      " [ 1.  0.  0.  0.  0.  0.  0.  0.  0.  1.]\n",
      " [ 1.  1.  1.  1.  1.  1.  1.  1.  1.  1.]]\n"
     ]
    }
   ],
   "source": [
    "oneborder = np.ones((10,10))\n",
    "oneborder[1:-1, 1:-1] = 0\n",
    "print(oneborder)"
   ]
  },
  {
   "cell_type": "markdown",
   "metadata": {
    "button": false,
    "new_sheet": false,
    "run_control": {
     "read_only": false
    }
   },
   "source": [
    "#### 16. How to add a border (filled with 0's) around an existing array? (★☆☆)"
   ]
  },
  {
   "cell_type": "code",
   "execution_count": 14,
   "metadata": {
    "button": false,
    "new_sheet": false,
    "run_control": {
     "read_only": false
    }
   },
   "outputs": [
    {
     "name": "stdout",
     "output_type": "stream",
     "text": [
      "[[ 1.  1.  1.  1.  1.  1.  1.  1.  1.  1.]\n",
      " [ 1.  1.  1.  1.  1.  1.  1.  1.  1.  1.]\n",
      " [ 1.  1.  1.  1.  1.  1.  1.  1.  1.  1.]\n",
      " [ 1.  1.  1.  1.  1.  1.  1.  1.  1.  1.]\n",
      " [ 1.  1.  1.  1.  1.  1.  1.  1.  1.  1.]\n",
      " [ 1.  1.  1.  1.  1.  1.  1.  1.  1.  1.]\n",
      " [ 1.  1.  1.  1.  1.  1.  1.  1.  1.  1.]\n",
      " [ 1.  1.  1.  1.  1.  1.  1.  1.  1.  1.]\n",
      " [ 1.  1.  1.  1.  1.  1.  1.  1.  1.  1.]\n",
      " [ 1.  1.  1.  1.  1.  1.  1.  1.  1.  1.]]\n",
      "[[ 0.  0.  0.  0.  0.  0.  0.  0.  0.  0.  0.  0.]\n",
      " [ 0.  1.  1.  1.  1.  1.  1.  1.  1.  1.  1.  0.]\n",
      " [ 0.  1.  1.  1.  1.  1.  1.  1.  1.  1.  1.  0.]\n",
      " [ 0.  1.  1.  1.  1.  1.  1.  1.  1.  1.  1.  0.]\n",
      " [ 0.  1.  1.  1.  1.  1.  1.  1.  1.  1.  1.  0.]\n",
      " [ 0.  1.  1.  1.  1.  1.  1.  1.  1.  1.  1.  0.]\n",
      " [ 0.  1.  1.  1.  1.  1.  1.  1.  1.  1.  1.  0.]\n",
      " [ 0.  1.  1.  1.  1.  1.  1.  1.  1.  1.  1.  0.]\n",
      " [ 0.  1.  1.  1.  1.  1.  1.  1.  1.  1.  1.  0.]\n",
      " [ 0.  1.  1.  1.  1.  1.  1.  1.  1.  1.  1.  0.]\n",
      " [ 0.  1.  1.  1.  1.  1.  1.  1.  1.  1.  1.  0.]\n",
      " [ 0.  0.  0.  0.  0.  0.  0.  0.  0.  0.  0.  0.]]\n"
     ]
    }
   ],
   "source": [
    "import numpy as np\n",
    "zero_border = np.ones((10,10))\n",
    "print(zero_border)\n",
    "bordered = np.pad(zero_border, (1,1), mode = 'constant')\n",
    "print(bordered)"
   ]
  },
  {
   "cell_type": "markdown",
   "metadata": {
    "button": false,
    "new_sheet": false,
    "run_control": {
     "read_only": false
    }
   },
   "source": [
    "#### 17. What is the result of the following expression? (★☆☆)"
   ]
  },
  {
   "cell_type": "markdown",
   "metadata": {
    "button": false,
    "new_sheet": false,
    "run_control": {
     "read_only": false
    }
   },
   "source": [
    "```python\n",
    "0 * np.nan\n",
    "np.nan == np.nan\n",
    "np.inf > np.nan\n",
    "np.nan - np.nan\n",
    "0.3 == 3 * 0.1\n",
    "```"
   ]
  },
  {
   "cell_type": "code",
   "execution_count": 29,
   "metadata": {
    "button": false,
    "new_sheet": false,
    "run_control": {
     "read_only": false
    }
   },
   "outputs": [
    {
     "data": {
      "text/plain": [
       "False"
      ]
     },
     "execution_count": 29,
     "metadata": {},
     "output_type": "execute_result"
    }
   ],
   "source": [
    "0 * np.nan\n",
    "np.nan == np.nan\n",
    "np.inf > np.nan\n",
    "np.nan - np.nan\n",
    "0.3 == 3 * 0.1"
   ]
  },
  {
   "cell_type": "markdown",
   "metadata": {
    "button": false,
    "new_sheet": false,
    "run_control": {
     "read_only": false
    }
   },
   "source": [
    "#### 18. Create a 5x5 matrix with values 1,2,3,4 just below the diagonal (★☆☆)"
   ]
  },
  {
   "cell_type": "code",
   "execution_count": 20,
   "metadata": {
    "button": false,
    "new_sheet": false,
    "run_control": {
     "read_only": false
    }
   },
   "outputs": [
    {
     "name": "stdout",
     "output_type": "stream",
     "text": [
      "[[ 0.  0.  0.  0.  0.]\n",
      " [ 1.  0.  0.  0.  0.]\n",
      " [ 0.  2.  0.  0.  0.]\n",
      " [ 0.  0.  3.  0.  0.]\n",
      " [ 0.  0.  0.  4.  0.]]\n"
     ]
    }
   ],
   "source": [
    "onetwothreefour = np.zeros((5,5))\n",
    "onetwothreefour[1,0] = 1\n",
    "onetwothreefour[2,1] = 2\n",
    "onetwothreefour[3,2] = 3\n",
    "onetwothreefour[4,3] = 4\n",
    "print(onetwothreefour)"
   ]
  },
  {
   "cell_type": "markdown",
   "metadata": {
    "button": false,
    "new_sheet": false,
    "run_control": {
     "read_only": false
    }
   },
   "source": [
    "#### 19. Create a 8x8 matrix and fill it with a checkerboard pattern (★☆☆)"
   ]
  },
  {
   "cell_type": "code",
   "execution_count": 21,
   "metadata": {
    "button": false,
    "new_sheet": false,
    "run_control": {
     "read_only": false
    }
   },
   "outputs": [
    {
     "name": "stdout",
     "output_type": "stream",
     "text": [
      "[[ 0.  0.  0.  0.  0.  0.  0.  0.]\n",
      " [ 0.  0.  0.  0.  0.  0.  0.  0.]\n",
      " [ 0.  0.  0.  0.  0.  0.  0.  0.]\n",
      " [ 0.  0.  0.  0.  0.  0.  0.  0.]\n",
      " [ 0.  0.  0.  0.  0.  0.  0.  0.]\n",
      " [ 0.  0.  0.  0.  0.  0.  0.  0.]\n",
      " [ 0.  0.  0.  0.  0.  0.  0.  0.]\n",
      " [ 0.  0.  0.  0.  0.  0.  0.  0.]]\n"
     ]
    }
   ],
   "source": [
    "checkerboard = np.zeros((8,8))\n",
    "print(checkerboard)"
   ]
  },
  {
   "cell_type": "markdown",
   "metadata": {
    "button": false,
    "new_sheet": false,
    "run_control": {
     "read_only": false
    }
   },
   "source": [
    "#### 20. Consider a (6,7,8) shape array, what is the index (x,y,z) of the 100th element?"
   ]
  },
  {
   "cell_type": "code",
   "execution_count": 7,
   "metadata": {
    "button": false,
    "new_sheet": false,
    "run_control": {
     "read_only": false
    }
   },
   "outputs": [
    {
     "name": "stdout",
     "output_type": "stream",
     "text": [
      "[[[76 79 86 35 11 49 89 48]\n",
      "  [30 66 93 73 17  1 66 14]\n",
      "  [43 22 74 19 71  1 25 94]\n",
      "  [84 88 41 83 30 39  4 44]\n",
      "  [86 68 63 12 91 89  9 54]\n",
      "  [68 26 61 93 65 50 31 97]\n",
      "  [65 30 32 21 68 29 48 86]]\n",
      "\n",
      " [[97 61  5 22 75  5 60 66]\n",
      "  [79 12 18 39 65 56 68 39]\n",
      "  [32 17 37 57 97 78 41 91]\n",
      "  [90  3 24 33 48 85 26  5]\n",
      "  [11 66 85 68  6 49 76 37]\n",
      "  [92 67 39 75 24 98 53 94]\n",
      "  [69  8 55  6 38 57 21 80]]\n",
      "\n",
      " [[11 72 20 94 26 90 13 81]\n",
      "  [95 51 65 66 51 59 10 75]\n",
      "  [20 48 44 28 53 13 22 14]\n",
      "  [67 44 84 46 67 95 56 38]\n",
      "  [72 98 41 32 18 82 47 59]\n",
      "  [97 87  2  5 27 10 71 62]\n",
      "  [43 98 20 80 52 84 56  3]]\n",
      "\n",
      " [[32 68 24  4  2 83 11 35]\n",
      "  [99 63 74 41 68  3 92 68]\n",
      "  [26 96 40 43 94 46 69 40]\n",
      "  [31 36 37 54 93  1 87 29]\n",
      "  [90 40 86 28 15 53 88 56]\n",
      "  [98 71  7 30 83 96 42 45]\n",
      "  [15 52 26  4 49  3 17 82]]\n",
      "\n",
      " [[90 97 41 67 91 88 80  4]\n",
      "  [39 94 63 75 67 82 42 89]\n",
      "  [58 33 96 80 97 52 84 70]\n",
      "  [17 10 34 69  1 84 56 65]\n",
      "  [85 17 45 64 42 18 46  4]\n",
      "  [68 27 33  7 50 71 97 24]\n",
      "  [57 47  9 49 54 63 35 79]]\n",
      "\n",
      " [[44 51 74 50 13 17 70 65]\n",
      "  [69 95 55 36 55 74 31 80]\n",
      "  [61 99 28 56 18 29 90 45]\n",
      "  [77 53 70 89 38  2 39 16]\n",
      "  [64  2 79 45 15 26 83 86]\n",
      "  [16 40 25 36 12 18 19 51]\n",
      "  [63 14 91  9 47 45 53 74]]]\n"
     ]
    },
    {
     "data": {
      "text/plain": [
       "75"
      ]
     },
     "execution_count": 7,
     "metadata": {},
     "output_type": "execute_result"
    }
   ],
   "source": [
    "import numpy as np\n",
    "seven_ate_nine = np.random.randint(1,100,(6,7,8))\n",
    "print(seven_ate_nine)\n",
    "seven_ate_nine[1,5,3] #100th element"
   ]
  },
  {
   "cell_type": "markdown",
   "metadata": {
    "button": false,
    "new_sheet": false,
    "run_control": {
     "read_only": false
    }
   },
   "source": [
    "#### 21. Create a checkerboard 8x8 matrix using the tile function (★☆☆)"
   ]
  },
  {
   "cell_type": "code",
   "execution_count": 12,
   "metadata": {
    "button": false,
    "new_sheet": false,
    "run_control": {
     "read_only": false
    }
   },
   "outputs": [
    {
     "name": "stdout",
     "output_type": "stream",
     "text": [
      "[[0 1 0 1 0 1 0 1]\n",
      " [0 1 0 1 0 1 0 1]\n",
      " [0 1 0 1 0 1 0 1]\n",
      " [0 1 0 1 0 1 0 1]\n",
      " [0 1 0 1 0 1 0 1]\n",
      " [0 1 0 1 0 1 0 1]\n",
      " [0 1 0 1 0 1 0 1]\n",
      " [0 1 0 1 0 1 0 1]]\n"
     ]
    }
   ],
   "source": [
    "checks = np.array([0,1])\n",
    "board = np.tile(checks,(8,4))\n",
    "print(board)"
   ]
  },
  {
   "cell_type": "markdown",
   "metadata": {
    "button": false,
    "new_sheet": false,
    "run_control": {
     "read_only": false
    }
   },
   "source": [
    "#### 22. Normalize a 5x5 random matrix (★☆☆)"
   ]
  },
  {
   "cell_type": "code",
   "execution_count": 14,
   "metadata": {
    "button": false,
    "new_sheet": false,
    "run_control": {
     "read_only": false
    }
   },
   "outputs": [
    {
     "name": "stdout",
     "output_type": "stream",
     "text": [
      "Not Normalized: \n",
      "[[ 0.29101465  0.03109698  0.48079219  0.38226806  0.07674011]\n",
      " [ 0.13436194  0.67429428  0.20478764  0.97378113  0.12173363]\n",
      " [ 0.4077673   0.19843617  0.66182368  0.65812422  0.39475887]\n",
      " [ 0.56228611  0.13573806  0.77670098  0.06888246  0.07412236]\n",
      " [ 0.90989984  0.79911466  0.48333001  0.92815356  0.99777774]]\n",
      "Normalized: \n",
      "[[ 0.26887643  0.          0.46519516  0.36327513  0.04721635]\n",
      " [ 0.10682426  0.66536681  0.17967737  0.97517628  0.09376068]\n",
      " [ 0.38965327  0.17310698  0.65246639  0.64863941  0.37619647]\n",
      " [ 0.54949799  0.10824781  0.77130323  0.03908786  0.04450836]\n",
      " [ 0.90909315  0.79448947  0.46782045  0.92797604  1.        ]]\n"
     ]
    }
   ],
   "source": [
    "abnormal = np.random.random((5,5))\n",
    "print(\"Not Normalized: \")\n",
    "print(abnormal)\n",
    "normal = (abnormal - abnormal.min())/(abnormal.max()-abnormal.min())\n",
    "print(\"Normalized: \")\n",
    "print(normal)"
   ]
  },
  {
   "cell_type": "markdown",
   "metadata": {
    "button": false,
    "new_sheet": false,
    "run_control": {
     "read_only": false
    }
   },
   "source": [
    "#### 23. Create a custom dtype that describes a color as four unsigned bytes (RGBA) (★☆☆)"
   ]
  },
  {
   "cell_type": "code",
   "execution_count": 20,
   "metadata": {
    "button": false,
    "new_sheet": false,
    "run_control": {
     "read_only": false
    }
   },
   "outputs": [
    {
     "name": "stdout",
     "output_type": "stream",
     "text": [
      "<class 'numpy.dtype'>\n",
      "[('r', 'u1'), ('g', 'u1'), ('b', 'u1'), ('a', 'u1')]\n"
     ]
    }
   ],
   "source": [
    "color = np.dtype([(\"r\", np.ubyte, 1),\n",
    "                  (\"g\", np.ubyte, 1),\n",
    "                  (\"b\", np.ubyte, 1),\n",
    "                  (\"a\", np.ubyte, 1)])\n",
    "print(type(color))\n",
    "print(color)"
   ]
  },
  {
   "cell_type": "markdown",
   "metadata": {
    "button": false,
    "new_sheet": false,
    "run_control": {
     "read_only": false
    }
   },
   "source": [
    "#### 24. Multiply a 5x3 matrix by a 3x2 matrix (real matrix product) (★☆☆)"
   ]
  },
  {
   "cell_type": "code",
   "execution_count": 26,
   "metadata": {
    "button": false,
    "new_sheet": false,
    "run_control": {
     "read_only": false
    }
   },
   "outputs": [
    {
     "name": "stdout",
     "output_type": "stream",
     "text": [
      "5x3 Matrix\n",
      "[[7 4 8]\n",
      " [5 7 3]\n",
      " [7 8 5]\n",
      " [4 8 8]\n",
      " [3 6 5]]\n",
      "3x2 Matrix\n",
      "[[2 8]\n",
      " [6 2]\n",
      " [5 1]]\n",
      "Real Matrix Product\n",
      "[[78 72]\n",
      " [67 57]\n",
      " [87 77]\n",
      " [96 56]\n",
      " [67 41]]\n"
     ]
    }
   ],
   "source": [
    "np.random.seed(42)\n",
    "fivethree = np.random.randint(1,10,(5,3))\n",
    "threetwo = np.random.randint(1,10,(3,2))\n",
    "multiply = np.dot(fivethree, threetwo)\n",
    "print(\"5x3 Matrix\")\n",
    "print(fivethree)\n",
    "print(\"3x2 Matrix\")\n",
    "print(threetwo)\n",
    "print(\"Real Matrix Product\") \n",
    "print(multiply)"
   ]
  },
  {
   "cell_type": "markdown",
   "metadata": {
    "button": false,
    "new_sheet": false,
    "run_control": {
     "read_only": false
    }
   },
   "source": [
    "#### 25. Given a 1D array, negate all elements which are between 3 and 8, in place. (★☆☆)"
   ]
  },
  {
   "cell_type": "code",
   "execution_count": 40,
   "metadata": {
    "button": false,
    "new_sheet": false,
    "run_control": {
     "read_only": false
    }
   },
   "outputs": [
    {
     "name": "stdout",
     "output_type": "stream",
     "text": [
      "Before: \n",
      "[ 1  2  3  4  5  6  7  8  9 10]\n",
      "After: \n",
      "[ 1  2  3 -4 -5 -6 -7 -8  9 10]\n"
     ]
    }
   ],
   "source": [
    "np.random.seed(1)\n",
    "oneD = np.array([1,2,3,4,5,6,7,8,9,10])\n",
    "print(\"Before: \")\n",
    "print(oneD)\n",
    "oneD[(3 < oneD) & (oneD < 9)] *= -1\n",
    "print(\"After: \")\n",
    "print(oneD)"
   ]
  },
  {
   "cell_type": "markdown",
   "metadata": {
    "button": false,
    "new_sheet": false,
    "run_control": {
     "read_only": false
    }
   },
   "source": [
    "#### 26. What is the output of the following script? (★☆☆)"
   ]
  },
  {
   "cell_type": "markdown",
   "metadata": {
    "button": false,
    "new_sheet": false,
    "run_control": {
     "read_only": false
    }
   },
   "source": [
    "```python\n",
    "# Author: Jake VanderPlas\n",
    "\n",
    "print(sum(range(5),-1))\n",
    "from numpy import *\n",
    "print(sum(range(5),-1))\n",
    "```"
   ]
  },
  {
   "cell_type": "code",
   "execution_count": 41,
   "metadata": {
    "button": false,
    "new_sheet": false,
    "run_control": {
     "read_only": false
    }
   },
   "outputs": [
    {
     "name": "stdout",
     "output_type": "stream",
     "text": [
      "9\n",
      "10\n"
     ]
    }
   ],
   "source": [
    "print(sum(range(5),-1))\n",
    "#1 + 2 + 3 + 4 - 1 = 9\n",
    "from numpy import * # Imports every numpy module\n",
    "print(sum(range(5),-1)) # Some numpy module changes the interpretation of this"
   ]
  },
  {
   "cell_type": "markdown",
   "metadata": {
    "button": false,
    "new_sheet": false,
    "run_control": {
     "read_only": false
    }
   },
   "source": [
    "#### 27. Consider an integer vector Z, which of these expressions are legal? (★☆☆)"
   ]
  },
  {
   "cell_type": "markdown",
   "metadata": {
    "button": false,
    "new_sheet": false,
    "run_control": {
     "read_only": false
    }
   },
   "source": [
    "```python\n",
    "Z**Z\n",
    "2 << Z >> 2\n",
    "Z <- Z\n",
    "1j*Z\n",
    "Z/1/1\n",
    "Z<Z>Z\n",
    "```"
   ]
  },
  {
   "cell_type": "code",
   "execution_count": 59,
   "metadata": {
    "button": false,
    "collapsed": true,
    "new_sheet": false,
    "run_control": {
     "read_only": false
    }
   },
   "outputs": [],
   "source": [
    "# All are valid except Z<Z>Z"
   ]
  },
  {
   "cell_type": "markdown",
   "metadata": {
    "button": false,
    "new_sheet": false,
    "run_control": {
     "read_only": false
    }
   },
   "source": [
    "#### 28. What are the result of the following expressions?"
   ]
  },
  {
   "cell_type": "markdown",
   "metadata": {
    "button": false,
    "new_sheet": false,
    "run_control": {
     "read_only": false
    }
   },
   "source": [
    "```python\n",
    "np.array(0) / np.array(0)\n",
    "np.array(0) // np.array(0)\n",
    "np.array([np.nan]).astype(int).astype(float)\n",
    "```"
   ]
  },
  {
   "cell_type": "code",
   "execution_count": 62,
   "metadata": {
    "button": false,
    "new_sheet": false,
    "run_control": {
     "read_only": false
    }
   },
   "outputs": [
    {
     "data": {
      "text/plain": [
       "array([ -9.22337204e+18])"
      ]
     },
     "execution_count": 62,
     "metadata": {},
     "output_type": "execute_result"
    }
   ],
   "source": [
    "np.array(0) / np.array(0) #Error\n",
    "np.array(0) // np.array(0) #Error but also prints 0\n",
    "np.array([np.nan]).astype(int).astype(float) #Value below"
   ]
  },
  {
   "cell_type": "markdown",
   "metadata": {
    "button": false,
    "new_sheet": false,
    "run_control": {
     "read_only": false
    }
   },
   "source": [
    "#### 29. How to round away from zero a float array ? (★☆☆)"
   ]
  },
  {
   "cell_type": "code",
   "execution_count": 101,
   "metadata": {
    "button": false,
    "new_sheet": false,
    "run_control": {
     "read_only": false
    }
   },
   "outputs": [
    {
     "name": "stdout",
     "output_type": "stream",
     "text": [
      "[ 5.92414569  0.46450413  6.07544852  1.70524124  0.65051593  9.48885537\n",
      "  9.65632033  8.08397348  3.04613769  0.97672114]\n",
      "[  6.   1.   7.   2.   1.  10.  10.   9.   4.   1.]\n"
     ]
    }
   ],
   "source": [
    "randos = np.random.uniform(0,10,10)\n",
    "print(randos)\n",
    "print(np.ceil(randos))"
   ]
  },
  {
   "cell_type": "markdown",
   "metadata": {
    "button": false,
    "new_sheet": false,
    "run_control": {
     "read_only": false
    }
   },
   "source": [
    "#### 30. How to find common values between two arrays? (★☆☆)"
   ]
  },
  {
   "cell_type": "code",
   "execution_count": 72,
   "metadata": {
    "button": false,
    "new_sheet": false,
    "run_control": {
     "read_only": false
    }
   },
   "outputs": [
    {
     "name": "stdout",
     "output_type": "stream",
     "text": [
      "Array 1\n",
      "[ 0  1  2  3  4  5  6  7  8  9 10 11 12 13 14 15 16 17 18 19 20 21 22 23 24]\n",
      "Array 2\n",
      "[10 11 12 13 14 15 16 17 18 19 20 21 22 23 24 25 26 27 28 29 30 31 32 33 34\n",
      " 35 36 37 38 39 40 41 42 43 44 45 46 47 48 49 50]\n",
      "Common Values\n",
      "[10 11 12 13 14 15 16 17 18 19 20 21 22 23 24]\n"
     ]
    }
   ],
   "source": [
    "a1 = np.arange(25)\n",
    "print(\"Array 1\")\n",
    "print(a1)\n",
    "a2 = np.arange(10,51)\n",
    "print(\"Array 2\")\n",
    "print(a2)\n",
    "a3 = np.intersect1d(a1,a2)\n",
    "print(\"Common Values\")\n",
    "print(a3)"
   ]
  },
  {
   "cell_type": "markdown",
   "metadata": {
    "button": false,
    "new_sheet": false,
    "run_control": {
     "read_only": false
    }
   },
   "source": [
    "#### 31. How to ignore all numpy warnings (not recommended)? (★☆☆)"
   ]
  },
  {
   "cell_type": "code",
   "execution_count": null,
   "metadata": {
    "button": false,
    "collapsed": true,
    "new_sheet": false,
    "run_control": {
     "read_only": false
    }
   },
   "outputs": [],
   "source": [
    "np.seterr(all = 'ignore') #I'm not going to run this"
   ]
  },
  {
   "cell_type": "markdown",
   "metadata": {
    "button": false,
    "new_sheet": false,
    "run_control": {
     "read_only": false
    }
   },
   "source": [
    "#### 32. Is the following expressions true? (★☆☆)"
   ]
  },
  {
   "cell_type": "markdown",
   "metadata": {
    "button": false,
    "new_sheet": false,
    "run_control": {
     "read_only": false
    }
   },
   "source": [
    "```python\n",
    "np.sqrt(-1) == np.emath.sqrt(-1)\n",
    "```"
   ]
  },
  {
   "cell_type": "code",
   "execution_count": 74,
   "metadata": {
    "button": false,
    "collapsed": true,
    "new_sheet": false,
    "run_control": {
     "read_only": false
    }
   },
   "outputs": [],
   "source": [
    "# No"
   ]
  },
  {
   "cell_type": "markdown",
   "metadata": {
    "button": false,
    "new_sheet": false,
    "run_control": {
     "read_only": false
    }
   },
   "source": [
    "#### 33. How to get the dates of yesterday, today and tomorrow? (★☆☆)"
   ]
  },
  {
   "cell_type": "code",
   "execution_count": 80,
   "metadata": {
    "button": false,
    "new_sheet": false,
    "run_control": {
     "read_only": false
    }
   },
   "outputs": [
    {
     "name": "stdout",
     "output_type": "stream",
     "text": [
      "2017-11-16\n",
      "2017-11-17\n",
      "2017-11-18\n"
     ]
    }
   ],
   "source": [
    "yesterday = np.datetime64('today', 'D') - np.timedelta64(1, 'D')\n",
    "today     = np.datetime64('today', 'D')\n",
    "tomorrow  = np.datetime64('today', 'D') + np.timedelta64(1, 'D')\n",
    "print(yesterday)\n",
    "print(today)\n",
    "print(tomorrow)"
   ]
  },
  {
   "cell_type": "markdown",
   "metadata": {
    "button": false,
    "new_sheet": false,
    "run_control": {
     "read_only": false
    }
   },
   "source": [
    "#### 34. How to get all the dates corresponding to the month of July 2016? (★★☆)"
   ]
  },
  {
   "cell_type": "code",
   "execution_count": 82,
   "metadata": {
    "button": false,
    "new_sheet": false,
    "run_control": {
     "read_only": false
    }
   },
   "outputs": [
    {
     "name": "stdout",
     "output_type": "stream",
     "text": [
      "['2016-07-01' '2016-07-02' '2016-07-03' '2016-07-04' '2016-07-05'\n",
      " '2016-07-06' '2016-07-07' '2016-07-08' '2016-07-09' '2016-07-10'\n",
      " '2016-07-11' '2016-07-12' '2016-07-13' '2016-07-14' '2016-07-15'\n",
      " '2016-07-16' '2016-07-17' '2016-07-18' '2016-07-19' '2016-07-20'\n",
      " '2016-07-21' '2016-07-22' '2016-07-23' '2016-07-24' '2016-07-25'\n",
      " '2016-07-26' '2016-07-27' '2016-07-28' '2016-07-29' '2016-07-30'\n",
      " '2016-07-31']\n"
     ]
    }
   ],
   "source": [
    "july16 = np.arange('2016-07','2016-08', dtype = 'datetime64[D]')\n",
    "print(july16)"
   ]
  },
  {
   "cell_type": "markdown",
   "metadata": {
    "button": false,
    "new_sheet": false,
    "run_control": {
     "read_only": false
    }
   },
   "source": [
    "#### 35. How to compute ((A+B)\\*(-A/2)) in place (without copy)? (★★☆)"
   ]
  },
  {
   "cell_type": "code",
   "execution_count": 97,
   "metadata": {
    "button": false,
    "new_sheet": false,
    "run_control": {
     "read_only": false
    }
   },
   "outputs": [
    {
     "name": "stdout",
     "output_type": "stream",
     "text": [
      "[ 7 15 11  8  7 19 11 11  4  8]\n",
      "[44 23 42 41 22 44 32 26 22 48]\n"
     ]
    },
    {
     "data": {
      "text/plain": [
       "array([-153, -266, -265, -196,  -87, -567, -215, -185,  -52, -224])"
      ]
     },
     "execution_count": 97,
     "metadata": {},
     "output_type": "execute_result"
    }
   ],
   "source": [
    "np.random.seed(42)\n",
    "A = np.random.randint(1,20,10)\n",
    "print(A)\n",
    "B = np.random.randint(21,50,10)\n",
    "print(B)\n",
    "np.add(A, B, out = B)\n",
    "np.divide(A, -2, out = A, casting = 'unsafe')\n",
    "np.multiply(A,B, out = B)"
   ]
  },
  {
   "cell_type": "markdown",
   "metadata": {
    "button": false,
    "new_sheet": false,
    "run_control": {
     "read_only": false
    }
   },
   "source": [
    "#### 36. Extract the integer part of a random array using 5 different methods (★★☆)"
   ]
  },
  {
   "cell_type": "code",
   "execution_count": 121,
   "metadata": {
    "button": false,
    "new_sheet": false,
    "run_control": {
     "read_only": false
    }
   },
   "outputs": [
    {
     "name": "stdout",
     "output_type": "stream",
     "text": [
      "[ 3.74540119  9.50714306  7.31993942  5.98658484  1.5601864 ]\n",
      "[ 3.  9.  7.  5.  1.]\n",
      "[ 3.  9.  7.  5.  1.]\n",
      "[ 3.  9.  7.  5.  1.]\n",
      "[3 9 7 5 1]\n",
      "[ 3.  9.  7.  5.  1.]\n"
     ]
    }
   ],
   "source": [
    "np.random.seed(42)\n",
    "rand = np.random.uniform(0,10,5)\n",
    "\n",
    "print(rand)\n",
    "\n",
    "print(np.ceil(rand)-1)\n",
    "print(np.floor(rand))\n",
    "print(np.trunc(rand))\n",
    "print(rand.astype('int'))\n",
    "print(rand - rand%1)"
   ]
  },
  {
   "cell_type": "markdown",
   "metadata": {
    "button": false,
    "new_sheet": false,
    "run_control": {
     "read_only": false
    }
   },
   "source": [
    "#### 37. Create a 5x5 matrix with row values ranging from 0 to 4 (★★☆)"
   ]
  },
  {
   "cell_type": "code",
   "execution_count": 128,
   "metadata": {
    "button": false,
    "new_sheet": false,
    "run_control": {
     "read_only": false
    }
   },
   "outputs": [
    {
     "name": "stdout",
     "output_type": "stream",
     "text": [
      "[[ 0.  0.  0.  0.  0.]\n",
      " [ 0.  0.  0.  0.  0.]\n",
      " [ 0.  0.  0.  0.  0.]\n",
      " [ 0.  0.  0.  0.  0.]\n",
      " [ 0.  0.  0.  0.  0.]]\n",
      "[[ 0.  1.  2.  3.  4.]\n",
      " [ 0.  1.  2.  3.  4.]\n",
      " [ 0.  1.  2.  3.  4.]\n",
      " [ 0.  1.  2.  3.  4.]\n",
      " [ 0.  1.  2.  3.  4.]]\n"
     ]
    }
   ],
   "source": [
    "matrix = np.zeros((5,5))\n",
    "print(matrix)\n",
    "matrix += np.arange(5)\n",
    "print(matrix)"
   ]
  },
  {
   "cell_type": "markdown",
   "metadata": {
    "button": false,
    "new_sheet": false,
    "run_control": {
     "read_only": false
    }
   },
   "source": [
    "#### 38. Consider a generator function that generates 10 integers and use it to build an array (★☆☆)"
   ]
  },
  {
   "cell_type": "code",
   "execution_count": 131,
   "metadata": {
    "button": false,
    "new_sheet": false,
    "run_control": {
     "read_only": false
    }
   },
   "outputs": [
    {
     "name": "stdout",
     "output_type": "stream",
     "text": [
      "[0 1 2 3 4 5 6 7 8 9]\n"
     ]
    }
   ],
   "source": [
    "def generator():\n",
    "    global tenintegers \n",
    "    tenintegers = np.array(np.arange(10))\n",
    "generator()\n",
    "print(tenintegers)"
   ]
  },
  {
   "cell_type": "markdown",
   "metadata": {
    "button": false,
    "new_sheet": false,
    "run_control": {
     "read_only": false
    }
   },
   "source": [
    "#### 39. Create a vector of size 10 with values ranging from 0 to 1, both excluded (★★☆)"
   ]
  },
  {
   "cell_type": "code",
   "execution_count": 132,
   "metadata": {
    "button": false,
    "new_sheet": false,
    "run_control": {
     "read_only": false
    }
   },
   "outputs": [
    {
     "name": "stdout",
     "output_type": "stream",
     "text": [
      "[ 0.   0.1  0.2  0.3  0.4  0.5  0.6  0.7  0.8  0.9]\n"
     ]
    }
   ],
   "source": [
    "print(np.linspace(0,1,num = 10, endpoint = False))"
   ]
  },
  {
   "cell_type": "markdown",
   "metadata": {
    "button": false,
    "new_sheet": false,
    "run_control": {
     "read_only": false
    }
   },
   "source": [
    "#### 40. Create a random vector of size 10 and sort it (★★☆)"
   ]
  },
  {
   "cell_type": "code",
   "execution_count": 137,
   "metadata": {
    "button": false,
    "new_sheet": false,
    "run_control": {
     "read_only": false
    }
   },
   "outputs": [
    {
     "name": "stdout",
     "output_type": "stream",
     "text": [
      "Unsorted\n",
      "[ 0.37454012  0.95071431  0.73199394  0.59865848  0.15601864  0.15599452\n",
      "  0.05808361  0.86617615  0.60111501  0.70807258]\n",
      "Sorted\n",
      "[ 0.05808361  0.15599452  0.15601864  0.37454012  0.59865848  0.60111501\n",
      "  0.70807258  0.73199394  0.86617615  0.95071431]\n"
     ]
    }
   ],
   "source": [
    "np.random.seed(42)\n",
    "vector = np.random.random(10)\n",
    "print(\"Unsorted\")\n",
    "print(vector)\n",
    "print(\"Sorted\")\n",
    "vector.sort()\n",
    "print(vector)"
   ]
  },
  {
   "cell_type": "markdown",
   "metadata": {
    "button": false,
    "new_sheet": false,
    "run_control": {
     "read_only": false
    }
   },
   "source": [
    "#### 41. How to sum a small array faster than np.sum? (★★☆)"
   ]
  },
  {
   "cell_type": "code",
   "execution_count": 26,
   "metadata": {
    "button": false,
    "new_sheet": false,
    "run_control": {
     "read_only": false
    }
   },
   "outputs": [
    {
     "name": "stdout",
     "output_type": "stream",
     "text": [
      "With np.sum:\n",
      "CPU times: user 28 µs, sys: 0 ns, total: 28 µs\n",
      "Wall time: 30.3 µs\n",
      "With ndarray.sum:\n",
      "CPU times: user 18 µs, sys: 1 µs, total: 19 µs\n",
      "Wall time: 21 µs\n"
     ]
    },
    {
     "data": {
      "text/plain": [
       "4950"
      ]
     },
     "execution_count": 26,
     "metadata": {},
     "output_type": "execute_result"
    }
   ],
   "source": [
    "import numpy as np\n",
    "small = np.array(np.arange(100))\n",
    "\n",
    "#Time with np.sum\n",
    "print(\"With np.sum:\")\n",
    "%time np.sum(small)\n",
    "   \n",
    "#Time with ndarray.sum\n",
    "print(\"With ndarray.sum:\")\n",
    "%time np.ndarray.sum(small)"
   ]
  },
  {
   "cell_type": "markdown",
   "metadata": {
    "button": false,
    "new_sheet": false,
    "run_control": {
     "read_only": false
    }
   },
   "source": [
    "#### 42. Consider two random array A and B, check if they are equal (★★☆)"
   ]
  },
  {
   "cell_type": "code",
   "execution_count": 30,
   "metadata": {
    "button": false,
    "new_sheet": false,
    "run_control": {
     "read_only": false
    }
   },
   "outputs": [
    {
     "name": "stdout",
     "output_type": "stream",
     "text": [
      "Array A:\n",
      "[ 0.18980206  0.76366718  0.39522638  0.29432052  0.67327796  0.70021196\n",
      "  0.60550583  0.61097047  0.40185017  0.8496207 ]\n",
      "Array B:\n",
      "[ 0.91584067  0.74364472  0.43217081  0.04516119  0.53974162  0.53099771\n",
      "  0.76191197  0.73125902  0.48335158  0.00589137]\n",
      "A and B Equal?\n",
      "[False False False False False False False False False False]\n"
     ]
    }
   ],
   "source": [
    "a = np.random.random(10)\n",
    "print(\"Array A:\")\n",
    "print(a)\n",
    "\n",
    "b = np.random.random(10)\n",
    "print(\"Array B:\")\n",
    "print(b)\n",
    "\n",
    "print(\"A and B Equal?\")\n",
    "print(a == b)"
   ]
  },
  {
   "cell_type": "markdown",
   "metadata": {
    "button": false,
    "new_sheet": false,
    "run_control": {
     "read_only": false
    }
   },
   "source": [
    "#### 43. Make an array immutable (read-only) (★★☆)"
   ]
  },
  {
   "cell_type": "code",
   "execution_count": 33,
   "metadata": {
    "button": false,
    "new_sheet": false,
    "run_control": {
     "read_only": false
    }
   },
   "outputs": [
    {
     "name": "stdout",
     "output_type": "stream",
     "text": [
      "Immutable Array\n",
      "[0 1 2 3 4 5 6 7 8 9]\n",
      "Attempting to change the first value to five causes a read-only exception\n"
     ]
    },
    {
     "ename": "ValueError",
     "evalue": "assignment destination is read-only",
     "output_type": "error",
     "traceback": [
      "\u001b[0;31m---------------------------------------------------------------------------\u001b[0m",
      "\u001b[0;31mValueError\u001b[0m                                Traceback (most recent call last)",
      "\u001b[0;32m<ipython-input-33-316ed68249e6>\u001b[0m in \u001b[0;36m<module>\u001b[0;34m()\u001b[0m\n\u001b[1;32m      5\u001b[0m \u001b[0;34m\u001b[0m\u001b[0m\n\u001b[1;32m      6\u001b[0m \u001b[0mprint\u001b[0m\u001b[0;34m(\u001b[0m\u001b[0;34m\"Attempting to change the first value to five causes a read-only exception\"\u001b[0m\u001b[0;34m)\u001b[0m\u001b[0;34m\u001b[0m\u001b[0m\n\u001b[0;32m----> 7\u001b[0;31m \u001b[0mimmutable\u001b[0m\u001b[0;34m[\u001b[0m\u001b[0;36m0\u001b[0m\u001b[0;34m]\u001b[0m \u001b[0;34m=\u001b[0m \u001b[0;36m5\u001b[0m\u001b[0;34m\u001b[0m\u001b[0m\n\u001b[0m",
      "\u001b[0;31mValueError\u001b[0m: assignment destination is read-only"
     ]
    }
   ],
   "source": [
    "immutable = np.arange(10)\n",
    "immutable.flags.writeable = False\n",
    "print(\"Immutable Array\")\n",
    "print(immutable)\n",
    "\n",
    "print(\"Attempting to change the first value to five causes a read-only exception\")\n",
    "immutable[0] = 5"
   ]
  },
  {
   "cell_type": "markdown",
   "metadata": {
    "button": false,
    "new_sheet": false,
    "run_control": {
     "read_only": false
    }
   },
   "source": [
    "#### 44. Consider a random 10x2 matrix representing cartesian coordinates, convert them to polar coordinates (★★☆)"
   ]
  },
  {
   "cell_type": "code",
   "execution_count": 57,
   "metadata": {
    "button": false,
    "new_sheet": false,
    "run_control": {
     "read_only": false
    }
   },
   "outputs": [
    {
     "name": "stdout",
     "output_type": "stream",
     "text": [
      "Cartesian Array:\n",
      "[[ 0.30322657  0.18326549]\n",
      " [ 0.48526766  0.03620445]\n",
      " [ 0.55315424  0.41501178]\n",
      " [ 0.93744137  0.06328934]\n",
      " [ 0.1386568   0.28862994]\n",
      " [ 0.0535513   0.87947133]\n",
      " [ 0.79137546  0.52742446]\n",
      " [ 0.25031628  0.77500647]\n",
      " [ 0.03897673  0.89201484]\n",
      " [ 0.62701869  0.86000638]]\n",
      "Polar Array:\n",
      "[[ 0.3543058   1.02715904]\n",
      " [ 0.48661634  1.49632711]\n",
      " [ 0.69153048  0.9271262 ]\n",
      " [ 0.93957536  1.50338577]\n",
      " [ 0.32020766  0.44784214]\n",
      " [ 0.8811002   0.06081525]\n",
      " [ 0.95102665  0.98293299]\n",
      " [ 0.81442819  0.31240927]\n",
      " [ 0.89286598  0.04366738]\n",
      " [ 1.06431359  0.6299813 ]]\n"
     ]
    }
   ],
   "source": [
    "cartesian = np.random.random((10,2))\n",
    "print(\"Cartesian Array:\")\n",
    "print(cartesian)\n",
    "\n",
    "polar = np.vstack(((np.sqrt(cartesian[:,0]**2 + cartesian[:,1]**2)), (np.arctan(cartesian[:,0]/cartesian[:,1])))).T\n",
    "print(\"Polar Array:\")\n",
    "print(polar)"
   ]
  },
  {
   "cell_type": "markdown",
   "metadata": {
    "button": false,
    "new_sheet": false,
    "run_control": {
     "read_only": false
    }
   },
   "source": [
    "#### 45. Create random vector of size 10 and replace the maximum value by 0 (★★☆)"
   ]
  },
  {
   "cell_type": "code",
   "execution_count": 65,
   "metadata": {
    "button": false,
    "new_sheet": false,
    "run_control": {
     "read_only": false
    }
   },
   "outputs": [
    {
     "name": "stdout",
     "output_type": "stream",
     "text": [
      "Before Change Array\n",
      "[ 0.79206473  0.30487265  0.51761188  0.09635099  0.01176059  0.3286414\n",
      "  0.14272091  0.29699594  0.29406291  0.12862314]\n",
      "Before Change Max\n",
      "0.792064730959\n",
      "After Change Array\n",
      "[ 0.          0.30487265  0.51761188  0.09635099  0.01176059  0.3286414\n",
      "  0.14272091  0.29699594  0.29406291  0.12862314]\n",
      "After Change Max\n",
      "0.517611881125\n"
     ]
    }
   ],
   "source": [
    "randos = np.random.random(10)\n",
    "print(\"Before Change Array\")\n",
    "print(randos)\n",
    "print(\"Before Change Max\")\n",
    "print(randos.max())\n",
    "\n",
    "randos[np.argmax(randos)] = 0\n",
    "\n",
    "print(\"After Change Array\")\n",
    "print(randos)\n",
    "print(\"After Change Max\")\n",
    "print(randos.max())"
   ]
  },
  {
   "cell_type": "markdown",
   "metadata": {
    "button": false,
    "new_sheet": false,
    "run_control": {
     "read_only": false
    }
   },
   "source": [
    "#### 46. Create a structured array with `x` and `y` coordinates covering the \\[0,1\\]x\\[0,1\\] area (★★☆)"
   ]
  },
  {
   "cell_type": "code",
   "execution_count": 66,
   "metadata": {
    "button": false,
    "new_sheet": false,
    "run_control": {
     "read_only": false
    }
   },
   "outputs": [
    {
     "name": "stdout",
     "output_type": "stream",
     "text": [
      "[[( 0.  ,  0.  ) ( 0.25,  0.  ) ( 0.5 ,  0.  ) ( 0.75,  0.  )\n",
      "  ( 1.  ,  0.  )]\n",
      " [( 0.  ,  0.25) ( 0.25,  0.25) ( 0.5 ,  0.25) ( 0.75,  0.25)\n",
      "  ( 1.  ,  0.25)]\n",
      " [( 0.  ,  0.5 ) ( 0.25,  0.5 ) ( 0.5 ,  0.5 ) ( 0.75,  0.5 )\n",
      "  ( 1.  ,  0.5 )]\n",
      " [( 0.  ,  0.75) ( 0.25,  0.75) ( 0.5 ,  0.75) ( 0.75,  0.75)\n",
      "  ( 1.  ,  0.75)]\n",
      " [( 0.  ,  1.  ) ( 0.25,  1.  ) ( 0.5 ,  1.  ) ( 0.75,  1.  )\n",
      "  ( 1.  ,  1.  )]]\n"
     ]
    }
   ],
   "source": [
    "zeroone = np.zeros((5,5), [('x',float),('y',float)])\n",
    "zeroone['x'], zeroone['y'] = np.meshgrid(np.linspace(0,1,5),\n",
    "                             np.linspace(0,1,5))\n",
    "print(zeroone)"
   ]
  },
  {
   "cell_type": "markdown",
   "metadata": {
    "button": false,
    "new_sheet": false,
    "run_control": {
     "read_only": false
    }
   },
   "source": [
    "####  47. Given two arrays, X and Y, construct the Cauchy matrix C (Cij =1/(xi - yj))"
   ]
  },
  {
   "cell_type": "code",
   "execution_count": null,
   "metadata": {
    "button": false,
    "collapsed": true,
    "new_sheet": false,
    "run_control": {
     "read_only": false
    }
   },
   "outputs": [],
   "source": [
    "#I'm don't understand what this problem is asking me to do"
   ]
  },
  {
   "cell_type": "markdown",
   "metadata": {
    "button": false,
    "new_sheet": false,
    "run_control": {
     "read_only": false
    }
   },
   "source": [
    "#### 48. Print the minimum and maximum representable value for each numpy scalar type (★★☆)"
   ]
  },
  {
   "cell_type": "code",
   "execution_count": 2,
   "metadata": {
    "button": false,
    "new_sheet": false,
    "run_control": {
     "read_only": false
    }
   },
   "outputs": [
    {
     "name": "stdout",
     "output_type": "stream",
     "text": [
      "-128\n",
      "127\n",
      "-2147483648\n",
      "2147483647\n",
      "-9223372036854775808\n",
      "9223372036854775807\n",
      "-3.40282e+38\n",
      "3.40282e+38\n",
      "1.19209e-07\n",
      "-1.79769313486e+308\n",
      "1.79769313486e+308\n",
      "2.22044604925e-16\n"
     ]
    }
   ],
   "source": [
    "for dtype in [np.int8, np.int32, np.int64]:\n",
    "   print(np.iinfo(dtype).min)\n",
    "   print(np.iinfo(dtype).max)\n",
    "for dtype in [np.float32, np.float64]:\n",
    "   print(np.finfo(dtype).min)\n",
    "   print(np.finfo(dtype).max)\n",
    "   print(np.finfo(dtype).eps)"
   ]
  },
  {
   "cell_type": "markdown",
   "metadata": {
    "button": false,
    "new_sheet": false,
    "run_control": {
     "read_only": false
    }
   },
   "source": [
    "#### 49. How to print all the values of an array? (★★☆)"
   ]
  },
  {
   "cell_type": "code",
   "execution_count": 3,
   "metadata": {
    "button": false,
    "new_sheet": false,
    "run_control": {
     "read_only": false
    }
   },
   "outputs": [
    {
     "name": "stdout",
     "output_type": "stream",
     "text": [
      "[[41 92 57 90 99 68 59 26 16  7 14 51 96  3 85 35 35  9 53 95 81 77 39 48\n",
      "  28 67 31 12 22 37 85 82 36 27 69 76 87 11 44 14 75 67 62 39 65 15 70 67\n",
      "  26 89 88 17 18 30 99 83 24 14 42 56 94 59 90  3 99 90 28 43 31 37 44 51\n",
      "  90 74 49 44 98 66 24 34 10 64  9 13 97 30 25 92 21 61 10 77 50 89 82 64\n",
      "  61 60 33  2]\n",
      " [96 15 75 60 63 70  9 97 97  9 47 28  6 29 81 96 80  8 55 28 86 88 25 33\n",
      "  27 17 92 47 90  3 23 67 56 76 72 44  4 57 20 53 50 56 55 30 24 85 47 20\n",
      "  39 36 82 24 15  1 62 49 88 34 66 29 79 58  4 17 30 72 79 62 83 78 65 56\n",
      "  62 27 67 75 74 56 85 97 86  1 89 73 38 85 81 30 19 59 97 75 20 92 53 40\n",
      "   1 66 85 57]\n",
      " [ 3 87 87 80  2 90 64 63 29 52 20 95 57 12 18 31 66 92 97  1 40 14 88  6\n",
      "  47 71 53 55 40 68  1 78 79 18 43 34 72 51 87 67 49 60 11 96  4 29 46 86\n",
      "  96 42 84 88 82 63 18 52 58 50 32 81 16 89 59 53 35 57 64 71 64  7 13 72\n",
      "   9 64 96 10 99 41 17 59 75 39 91 79 72  2  1  8 30 22 55 90 36  1 42 31\n",
      "  85 29 65 41]\n",
      " [17 20 44 91 72 40 47 90 37 40 77 14 74 71 44 21 30 34  4 41 45 25 23 14\n",
      "  22 77 23 35 11 17 25 66 41 26  9 45 37 75 11 79 53 55  9 86 62 11 10  5\n",
      "  33 97 68 89 76 82 89 64 87 37 78 49 23 20 83 40 23 89 77 27 59 40 36 16\n",
      "  75 97  4 45 23 88 53 27 48 42 36 53 31 59 30 72 90 19 23 56 66 64 60 91\n",
      "  83  4 13 16]\n",
      " [64 91 22 89 69 49 17 33 49  3 54 34 65 70 31 59 63 70 26 21 57 76 83 77\n",
      "  10 34 79 20 60 83 57 94 78  6 73 38 47 49 98 56 71 22 87 58 18 10 78 40\n",
      "  51 18  5  7 74 18 38 10  7 77 40 61 60 59 11 78  9 38 21 53 96 76 60 64\n",
      "  28 65 77 99 73 40 95  7 61 79 12 92 44 68  4 11 15 66 36 19 69  3 57 85\n",
      "   6 15 80 28]\n",
      " [61 28 81 81 34 31 32 30 48 32 64  7 76 90 91 18 12 22 38 80 56 45 99 28\n",
      "  19 43 72 60 74 76 78 87 26 29 99 71  4  9  5 56 68 63 28 81  4 49 37 64\n",
      "  14 53  9 77 93 56 34 42 60 60 22  2  8 23 13 79 11 46 70 51 47 99 35 74\n",
      "  13 93 53 56 98 43 60 61 79 27 77 46 18  3 12 57 55 65 58 84 38 94 57 92\n",
      "  79 69 76 72]\n",
      " [66 32 18 31 34 13 91 67 88 91 11 45 25 81 95 18 69 60 24 92 64 91 64 89\n",
      "  55 13  3 34  7  9 78 25 80 76 83 85 42 43 93 69 92 70 20 94 88 18 27 48\n",
      "  76 25 23 63 95 14 40 46 56  3  5 95 98 74 38 58 33 69 94 94 90 69 18 13\n",
      "  85 37 35 60 61 22 29 90 78 31 26 48 34 56 35 10 98 35 45 23 85  3 60 59\n",
      "  23 33 63 24]\n",
      " [91 83 35 45  5  9  9 89 80 37 51 89 82 17 98 37 70 44 88 32 32 86 91 17\n",
      "  55 73 44 12 79 65  4 85 22 40 32  9  2 48 51 49 19 76 61 19 61 65 56  7\n",
      "  80 55 33 50 24  2 17 76 67 45 72 69 18 30 56  7 49 82 29 63 12 32 68 36\n",
      "  20  4 40 30 92 37 96 69 17 74  6 11 25 18 33  1 36  4 83 62 71 72 17 77\n",
      "  48 45 77 12]\n",
      " [62  3 99 48 10 63 79 72 24 18 16 81 47 25 57 60 84 77 11 14  9 44 48 91\n",
      "  45 86 41 73 54 28 49 13 30 27 55 29 30 10 74 27 17 29 42 60  1 99 22 16\n",
      "   7 95 99 45 85 11 74  1 80 10  2 42 80 56 36 46 11 52 76 19 70 74 41 84\n",
      "  18 46 26 45 73 18 38 19 40 61 29  8 47 17 20 97 39 54  1 21 46 33  6 65\n",
      "  45 65 38 30]\n",
      " [64 52  7 29  5 38 76 74 87 47 60  6 28 31 95 91 35 84 43  6 84 31 77 74\n",
      "  46 55 84 55  7 75 93 92 56  9 60 83 79 80 21 78 14  5 54 90 79 68 86 59\n",
      "  36 83 81 76 87 14 62 76 58 23 12 96 95 53  8 41 92 84 48  2 77 96 31 40\n",
      "  15 60 47 41 86 96 25 50 11 98 42 49 67 71  6 87 88 50 36 46 61 16  3 39\n",
      "  43 28 24 76]\n",
      " [81 65 14 40 16  9 54 23 79 27 57 66 68 25 39  8 97 29 86 19 35 17 93 28\n",
      "  59 66  8 18  4 30 81 41  3 46 49  7 33 31 63 33 93 56 69 72 79  4 77  7\n",
      "  65 92 98 36  4 62 49 91  1 26 79  9 11 57 19 91 85  5 83 37 88 95 56 46\n",
      "  47 90 99 34 92 57 92 44 41 26 22 85 28 36 31 70 72 20 58 89 56 81 91 15\n",
      "  48 66 50 86]\n",
      " [88 47 11 82 85 50 42 20 30 72 47 44 28 95 53 41 84 38 21 99 54 63 95  2\n",
      "  65 69  9 90  6  8 47  4 94 61 71 24 29  2 48 76  4 55 44 85 38 21  5 39\n",
      "  46 74 58 25 26 85 47 85 34 72 13 49  4 21 95  8 21 49 40 20 74 79 64 10\n",
      "  24 94 85  2 33 60 28 52 73 76 84 17 89 73 41  9  9 76 29 78 86 52 83 91\n",
      "  76 51 98 82]\n",
      " [38 65 97 33 83 13 29 86 50 76  7 32 38 78  5 81 63 77 51 15 85  2 14 95\n",
      "  56 86 20 86 96 31 31 41 43  7 92 55 79 21 92 31 50 59  6 51 36 57  3 23\n",
      "  12 13 89 50 73 71 79 15 63 73 48 60 77 12 10 69 32 79  5 36  5 96 49 79\n",
      "  86 37 64  2 37 53 74 98  8 59 64  9 16 50 20  6  8 49 42 74 11 24 36 29\n",
      "  37 45 17 72]\n",
      " [59 68 19 65 61 81 37 99  3 31 60 65 42  7 88  5  3 91 24 63 17 34 49 77\n",
      "   6 35 29  1 82 53 31 79 80 91 89 75 77 81 50 10  7 90  3  4 27 54 10 11\n",
      "  14 90 58 60 90  9 77 33 27 62 24 52 28 17 65  1 41 84 55 48 20 67 38 10\n",
      "  79 61 47 69 91 81 11  4 10 90 31 80 11 17 30  1 71 41 97 78 79 21  5 15\n",
      "  77 23 42  5]\n",
      " [97 40  4 65 83 17 54  5 40 41 78 54 96 29 76 22 32 31 94 67  3 31 83 64\n",
      "   8 63  8 66 89 61 46  5 57 96 25 41 87 20 36 28 89 33 39 63 40 57 71 83\n",
      "  57  9 66 13 91 95  5 77 37 17 85 27 63 89 16 71 91 96  5 41 45 42 28 19\n",
      "   5 78 89 79 10 11 77 65 70 99 38 54 89 60 73 27 87 55 30 20  5 72 70 43\n",
      "   3  1 72 80]\n",
      " [66 43 36 50 90 94  2  4 56  7 16 57 61 15 44  3 71 75 68 54 63 43 70 86\n",
      "  22 28 93 22 29 55 94 36 32  9 57 74 50 99 38 91 56 74 35 97 55 19 19 15\n",
      "  54 68 55 19 27 69 40 32 14 63 17 61 66 72  4  9  8 26 41 56 90 40 60 56\n",
      "  27 85 56 79 80 46 98 46 13 21 42  5 55 98  1 75 47 92 15 76 15 77 87 18\n",
      "  58 70  3 97]\n",
      " [94 15  8 69 14 62 69 90 34 27 99 61 12 61 58 52 21 72 47 12 50 34 73 81\n",
      "  76 22 76 60 48 79 69 44 54 23 45 31 38 61 90 90 15 32  3 28 13 82 14 51\n",
      "  31 16 97 94 81 46 63 78 30 34 59 24 17 40 88 20 23 44 91 70 87 48 90 91\n",
      "  44 77 31 96 25 46 32  4 11 41 82 15 61 25 57 81 59 24 33 84 54 33 85 55\n",
      "  94 16 34 15]\n",
      " [34 64 14 18 76 43 82 30 92 72  4 47  9 65 95 80 20 13 46 38 45 92 94 30\n",
      "  64 48  8 20 81 33 49 28 82 43 11 82 66 40  4 69 91 93 47 36 60 30 36 83\n",
      "  69 50 24 17 58 33 98 90 77  5 65  6 72 19 14 89 92  8 33 63 50 75 67 28\n",
      "  53 32 11 42 97 55 40 85 48 65 66 51 10 41 74 66 94 26 53 97 58 92 26 18\n",
      "  37 35 70 64]\n",
      " [67 77  6 32 18 32 51 80 32 57 31 50 44 57 40 29  7 59 72 77 96  9 94 31\n",
      "  67 48 18 96 81 20 63 44  4 36 55  1 16 70 66 25 97 49 11 18 99 59 29 19\n",
      "  35 94 61 36 38 11 16 89 26 43 83 14 29  2 73 31 59 28 47 47 62 68 87 30\n",
      "  64 35 61 98 12 14 33  9 90 99 36 88  5  8 83 61 92 85 32 21 81 99 26 97\n",
      "  70 52 30 20]\n",
      " [78 21 56 65 17 84 20 79  2 98 34 24  4 79 46 60 69 72 53 49 10 69  7 40\n",
      "  80 31 18 31 99 52 55 71 18 64 84 40 55 90 80 85 60  7 31 64 59  6 40 73\n",
      "   7 58 28 43 24 33 99 13 14  4 28 48 76 46 67  6 45 57 84 64 54 18 86 74\n",
      "  68 49 52 45 59 27 53 53 72 15 47 21 97 82 36 94 23 81 39 41  2  7 58 49\n",
      "   1  3 55  6]\n",
      " [64 27 78 71 59 33 18 84 12 56 93 10 24  2 67 46 60 32 76 82 19  1 20 95\n",
      "  89 97 44 76 38 17 93 88 41  5 45 87 82 78 47 42 50 91 64 29 35 15 93 58\n",
      "  63 68 42 87 88 32 40 62 27 73 70 49 22 16 54 98 11 55 49 28 65 13 72 67\n",
      "  33 82 20 93 98 20 96 55 78 74 32 78 16  4 16 75 13  2 74 24 59 78 29 33\n",
      "  66 64 25 65]\n",
      " [81 50 54 61 75 23  6 27 42 61 61 17 44 95 67 67 60 61 59 91  2 65  5 10\n",
      "   1 13 17 84 25 22 29 46 48 17 18 24 10 69 76 60 22 94 33  6 22 29 74 67\n",
      "  56 91 62 21 86 66 40  6 66 22 65 80 35 17 67  5 59 22 60  3 35 52 26 43\n",
      "  86 49  2 69 16 16 69 70 64 50 25 79 73 94 97 30 21  7  6 17 93  4 28 45\n",
      "  64 67 14 12]\n",
      " [49 70 11 32 13  6 99  3 80 92 13 23  1 72 83 15 54 16 68 86 50 14 73 75\n",
      "  44 46 17 86 81 74 98  8 75 56 66 59 67 70 81 37 93 68 27 15 42 76 71 76\n",
      "  77 98 79 88 96 48 50 85 21 81 38 68 74 95 81 78 52 64 53 90 57 82 32 91\n",
      "  66 47 84 92 80 89 85 67 58 24 18 13 28 57 20 41 81 30 23 63 16 45 48 80\n",
      "  63 68 48 18]\n",
      " [48 23 35 65 68 48 84 93 61 88 90 65 83 20 79 34 10 97  3 94 85 57 23  7\n",
      "  32 57 54 89 26 38 77 95 19 37 15 26 40 48 52 61 14 48  1 52 69  1 37  6\n",
      "  48 62 94 85  1 41 58 89 55 13 69  6 81 31 63 93 11 94 64 46 92 70 96 39\n",
      "  27  6 36 65 61 78 81  5 41 29 31 71 94 53 97 56 20 89 73 14 76 23 89 64\n",
      "  24 18  6 63]\n",
      " [99 33 46 18 85 69 99 70 81 85 71 34 13 70 28 61 52  5 78 48 36  3 24 21\n",
      "   5 12 57 67 83 38  9 97 89 57 22  4 69 56 65 10 72 38 73 36 38 67 48 87\n",
      "   6 81 13 16 44 87 55  2 18 14 40 59 41  9 87 84 12 88 84 16 81 62 64 33\n",
      "  84 27 68 74  8 10 98 94 98  5 94 96 82 11 85  3 76 68 71 74 64 68 18 96\n",
      "  31 40 13 50]\n",
      " [18 16 75 90 57 54 65 16 48 15 13 20 48 76 61 24 33 10  1 75 99 14 24 88\n",
      "  48 21  2 59 88 55 27 72 87 11 80 23 98 77 90 91  2 30 98 44 33 69 11 29\n",
      "  18 56 56 35 98 87 27 88 90  6 74 99 84 40 20 79  8 26 14 27 75  3 11  1\n",
      "  79 82 87  4 23 74  5 51 67 96 32 24 51 27 68 27 66 89 65 49 57 54 62 93\n",
      "  45 17 85 84]\n",
      " [29 29 79 91 20 64 11 39 15 56 47 61 76 50 18 64 56 88 50 89 24 35 25 75\n",
      "  41 34 66 97 22 57 86 30 43 71 52 31 59 73 99 10 26 90 77 68  2 13 73 25\n",
      "  82 56  9 14 20 43 67 40 36 57 27 32 83  3 62 76 41 79 34 46 50 82 12 80\n",
      "  10 93 68 22 85 61 69 43 77 10 39 98  4 35 57 12 25 17 15  5 83 37 14  5\n",
      "  52 63  7 75]\n",
      " [33 61 31  6  3 33 14 43 55 11 85 60 61 17 95 69 77 14 27 94 87 51 54  5\n",
      "  19 10 16 15 42 91  6 99 34  6  8 41 40 32 58 26 16 11 11 38 88 14 97 90\n",
      "  61  8 73 77 88 63  8  9 92 63 38 53 11 58 67 69 57  1 70  5 99 66 51 53\n",
      "  13  3 33 27 51 90 84 13 84 48 19 95 70 61 28 21  4  5 91  6 47 88 47 84\n",
      "  34 42 79 88]\n",
      " [73 78 53  9 56 89 18 95 51 93 52  9 57 75  5 26 99 46 45  6 47 13 54 33\n",
      "  49 39 46 20 69 86 87 80 73 83 10 31 51 81 37 14 39 31 87 40 92 87 31 60\n",
      "  33 75 90 12 34  4 83 57 70 42 31 50 70 74 26 84 55 90 50 96 58 33 85 58\n",
      "  93  6 11 23 90 27 37 21 79 16  5 80  3 86 63 93  2 51 15 68 21 92 88 49\n",
      "  44 33 77 62]\n",
      " [14 16 47 42 48 52 97 71 42 18 91 23 84 31 12 93  9 24 18 92 81 84 15  5\n",
      "  31  4  6 87 41  7 65 84 66 28 87  8 39  5 58 37 76 23 67 86 40 67 20 66\n",
      "  14 54 34 23 67 62 23 38 16 70 19 70 13 30 27 87 90 98 59 93  6 48 40 93\n",
      "  43  6 16 71 10 37 57 34 22 41 57 90 61 71 17 69 63  7 20 78 42 99 21 93\n",
      "  71 28 21 85]\n",
      " [94 23 66 78 44 26 54 67 60 22 77 44 87 14 24 46 82 62 70 46 80 18 94 25\n",
      "  85  1 50 13 79 45 71  2 90 66 49  3 94 43 46 78  2 35 86 45 25 35  1 41\n",
      "  78 81 13 40 74 16  9 39 88  8 34 10  7 69 60 85 88 82 56 40 71  4 70 84\n",
      "  35 10 56 56 41 16 21 54  4 24 73 21 40  6 67 86 34 85 31 82 70 54 55 98\n",
      "   6 94  3 62]\n",
      " [10 22  4 52 76 95 26 37  9 56 33 71 98  1 58 90 92 24 30 72 19 23 94 65\n",
      "  32 56 71 54 80 79 93 98 32 75 85 77 86 36  5 66 11 87 66 88 71 92 65 60\n",
      "  84 21 18 41 54 94 97 55 25 66 81 42 28 88 20 71 73  7 49 54 24 91 96 72\n",
      "  37 16 34 31 75 29 89 75 34 15 63 98 27 51 86 59 54 47 29  4  1 94 70 35\n",
      "   7 67 57 18]\n",
      " [70 68 85 29  4 37  4 51 50 95  9 28 64 73 74 49 37 64 21 65 62 88 30  7\n",
      "  16 20 82 60 22 18 67 75 38  5 41 23 93 93 56 10 97 16 67 55 35 72  6 80\n",
      "  72 48 12 88 75 63 97 93 18 70 57 14 41 37 94 68 12 31 19 21 52 44 99 73\n",
      "  49 12 22 47 94 55 91 91 13 51 25 83 96 72 81 22 14 65  6 58  2 45 67 87\n",
      "  38 13 61 71]\n",
      " [38  1 40  1 63 97 30 31 57 26 86 40 37 45 41 35 35 15 90 97 51 84 64 55\n",
      "  87 72 59 71 18 83 79 13 51  9 63 78 85 46 41 70 22 16 20 71 65 36 11  8\n",
      "  78 79 40 13 33  3 40 63 89 28 45 69 20 79 21 32 83  5  5 71 70 49 63 50\n",
      "  24 63 75 10 83 90  9 37 94 54 11 87 12 74 78 40 60 73 92 44 29 92 41 27\n",
      "  96 75 39 55]\n",
      " [69 63 99 35 15 57 28 10 31 52 85 23 54 33 82 81 90 95 66 94 52 24 85 14\n",
      "  68 81 97 17 65 26 38 78  9 66 94 24  6  3  3 44 67 44 20 18  6 14 20 90\n",
      "  82 68 93 15 63 73 75 14 90 65 77 41 29  2 92 57 43 38 66  7 29 26 70 47\n",
      "  45 37 93 75 44 69 14 59 70 79 65 59 99 77 80 58 55 24 14 25  2 77 11 66\n",
      "  88 42 26  9]\n",
      " [92 78 84 14  2 60 53 54 26 76 47 62 24 41 26  3 28 33 74 42 92 32 48 43\n",
      "  98 74 26 77 66 72 46 91 80  3 54 32 63 74 79 88 27 53 42 68 73 59 37 56\n",
      "  72  1  2 51 63 12 37 27 30 46 52 36 89 22 75  3 31  5 90 46 71 71 66 99\n",
      "  74  9 62 32  1 11 46 58 30 28 76 58 41 64 46 77 19 76 17 52 29 26 12 47\n",
      "  92 98 11 85]\n",
      " [83  2 96 30 97 23 20 50 48 37 49 14 20 80 60 60 21 68 84 89 54 32 86 54\n",
      "   1 53 77  2 26 25  2 17 37 56 36 55 26 23 44 17 55 44 63 38 46 94  9 69\n",
      "  52 54 28 56 80 66 56 28 22 21 51 82 12 48 15 73 43  2 68 13 90 38 43  9\n",
      "  92 86  9  1 70  2 31 49 86 90 81 45 51 36 84 78 22 30 52 87 65 95  5 34\n",
      "  66 46 21 82]\n",
      " [98 29 98 32 35 33 59 19 54 57 59  9 53 27 20  3 22 88  9 45 92 70 82 32\n",
      "  65 91 96 68 31 47 42  6 83 73  6  4 11 91 96 52 35 86 96 33 74 92 35 62\n",
      "  28 17 79 20 45  1 86 96 42 41 11 87 47 98 52 55 77 42 89 40 10 18 36 14\n",
      "  19  4 65 71 35 74 39 21 40 10 81 77 46  6 26 48 36  2 35 81 90 93 62  5\n",
      "  99 17  2 47]\n",
      " [95 88 28 74  4 33 39 68 33 54 26 80 24 84 61 27 90 27 26 91 75 70 63 17\n",
      "  75 43 21 38 44 65  4 75 14  7 30 12 81 53 55 59 46 32  1 13 37 88 70 58\n",
      "  90 70 22 90  4 83 27 68 46 38  7 91 54 77  5 51 93  2 92 39 38 87 95 80\n",
      "  45 73 39 86 73  7 74 59 87 62 54 31 51 90 80 37 53 53 70 83 50 42  2 91\n",
      "  50 82 40 60]\n",
      " [ 6 52 16 60 22 26 84 38 83 43 92 15 79  5 61 95 99 52 61 93 51 93 48 69\n",
      "   2  2 19 70 72 47 54 39 20 18 22 21 92 67 15 19 72 74 51 81 94 36 92 68\n",
      "  11 64 67 11 67 52 83 90 17 27 17 45 67 44 21 73 87 29  1 80 64 92 48 60\n",
      "   5 79 92 61 54 96 17  8 52 27 46 13 88 42 12 50 25  3 33 85 66 27 88 96\n",
      "  67 18 70 50]\n",
      " [19 54 49 68 90 92 68 58 93  8 30 87 81 96 58 32 69 83 90 56 87 33 42 77\n",
      "  72 88 74 39 21 72 35 21 48  6 47 50  3 64 18  4 22 33 43 72 23  1 79  8\n",
      "  84 76 92  1 98  2 76 43 47 60 45  1 48 31 52 76 14  2 36 33 32 43 50 84\n",
      "   7 63 49 22 87 23 60 34 20 65 29 35 60 78 32 45 77  5 80 49 20  7  1  2\n",
      "  65 60 70  9]\n",
      " [25 21 63  2 85 14 29 43 97 91 46 30 53  5 31 10 94 45 82 81  4 31  4 54\n",
      "  73 70  7 35 95 56 40 39 91  2 69 16 21 65 42 20 33 46 48 68 88 68 26 95\n",
      "  54 34 29 85 85 29 18 73 13 72 60 77 66  7 49  3 79 98 12 90 98 38 48 16\n",
      "  76 73 52  8 66 98 80 39 30 35 31 85 90 19 62 83 85 39 83 19 69 87 95 55\n",
      "  13 66 58 34]\n",
      " [42 52 29 69 40 69 57 31 46 16 26 67 91 67 11 84 64 75 41 72 79 97 37 38\n",
      "  74 22 90 53  2 55 11 34 99  2 28 97 12 27  5 51 70 99 67 20 47 61 39 96\n",
      "  39 91 15 95 20 41 33 38 30 35 48 99 84 35 88 41 49 14 19 87 60 28  6 38\n",
      "  30 60 25 97 96 33 69 99  4 85 55 26 51 77 54 81 27 80 22 39 61 29 28 44\n",
      "  32 90 68 56]\n",
      " [85 66 67 38 12 70 69 80 57  4 44 75 93 82 52 96  9 50 81 50 24 32 90 35\n",
      "  41 71 92 28 37 89 58 76  1 39 21 17 74 15 90 92 60 16 28 47 97  6 28 55\n",
      "  90 25 12 55 50 46 72 40 10 10  2 34 22 55 70 14 14 30 46 55 27 19 23 10\n",
      "  52 25 28 57 81 28 72 36 24 16 15 16 88 81  9 98 60  2 57 84 73 95 99 87\n",
      "  15 77 71 34]\n",
      " [ 3 68 68 61 97 25 93 78 16 80 81 84 96 36 49  9  1 23 13 43 85 73 36 79\n",
      "  28 68 69 42 41 17 13 24 27 35 87 72 38 28 69 76  5 82  8 66 79 20 27 53\n",
      "  12 46 65 28 92 51 71 48 98 48 76 91 54 87 37 34  7 24 93 71 49 55 62 56\n",
      "  58 70  2  6 36 97 80 68 67 86 22 12 80 16 82 69 34 71  5 74 29 29 68 69\n",
      "  19 88  1 27]\n",
      " [90 61 11 59 97  8 57 79 79 47 98 43 21 77 59  3 34 36 99 94 17 33 46 75\n",
      "  81 38 67 98 72  8 63 71 20 78 33 79 61 10 66  2 48 91 64 86 78 61 33  6\n",
      "  89 21 60 34 63 65 12 37 14 66 38 43 18 81 87 76 77 64  3 30 90 76 24 65\n",
      "  57  4 53 30 36 38 17 86 96 10 44 45 72 39 81 15 16  4 76 17 42 13 72 99\n",
      "  84 62 47  3]\n",
      " [69  6 41 73 62 32 98 42 54 31 99 51 46  5 43 92 62 54  6 64 74  9 15 92\n",
      "  80 87 28 57 21 96 10 75 84 20 49 50 28 60 41 94 86 72 20 77 57 14 26 85\n",
      "  13 69 59 71 82 32 33 72 67 48 54 71  6 98 21 96 51 68 96 92 88 95 54 74\n",
      "  43 29 95 85 78 35 98 58 83  1 40 14 72  3 31 37 21 15  2 96 22 31 33 14\n",
      "  74 19 70  2]\n",
      " [92 20 26 60 95  8 12 79 96 89  4 28 91 20 57 24 99 88 23 97 83  9 10 48\n",
      "  19 32 71 21 54 62 59 18  6 33 33 34 58 86 76 52  9 55 14 24 50  1 39  3\n",
      "  50 89 39 36 14  7  6 53 71 71 87 78 35 29  6 92 40 97  5 36 99 95 39 15\n",
      "  55 29 73 46 40 26 92 10 45 15  4  6 19 58 70 72  7  2 52 86 38 50  3 10\n",
      "  61 93 71 62]\n",
      " [79 75 51 84  1 76 74 52 29 68 93 36 62 28 95 18 87 87 68 56 49 40 54 29\n",
      "  67 25 28 73 91 25 89 98 58 88 88 47 74 69 26 91 41 51  2 52 53 80 74 87\n",
      "  32 90 59 68 88 84 23  4 78 41 27 31 64 44 12 84 68 27 42 45 27 75 33 36\n",
      "  30 31 19 71  3 99 96 80 57 67 53 98  5 86 82 68 70 45 26 52 89 72 50  6\n",
      "  10 90 15 92]\n",
      " [13 27 17  5 60 16 80 36 72 95 75 23 90 83 94  7 83 11 13 52 40 22 76 28\n",
      "  30 20 60 31 47 83 46 18  2 86 75 74 33 66  5 75 10 52 72 69 68 97 11 76\n",
      "  33 73 76 43 57 94  2 30 55 54 56 58  3 41 11 75 74 69 35 41 49 48 13 71\n",
      "  32 24 20 88 17 88 68 81 25 60  8 56 64  2 61 59 18 71 67 99 57 60 34 63\n",
      "  43  3 33 96]\n",
      " [75 96 87 45 67 91 58 71  8 51 80 93 19 65 69 62 32 59 48 12 85 65 13 14\n",
      "  73 37 65 90 98 76 29 47 45 78 84 79 64 16 55 99  8 42 18 99 10 47 15 83\n",
      "  75 58  8 69 27 13 29 40 55 35 36 86 27  9 15 54 38 13 73 76 38 80 58 11\n",
      "  61 48 87 27 56 17 74 65 66 26 83 49 29 54  8  2 33 87 38 69 68 42 55 31\n",
      "  28 46 82 62]\n",
      " [80 93 22  1 49 11 12 95 92 98 96 97 50 76 35 21 20 44 35 77 99 47  1 58\n",
      "  91 10 41 70 84 99 59 44 71 75 18 53 72 95 90 93 38 66  3 94 55 61 43 70\n",
      "  76 14 70 15 75 39 57 62 93 37 88 79 34 67 89 46 91 85 78 96 45 58 79 17\n",
      "  82 22 21 80 15 26 47 35 93 83 73 29 44  7 76 17 96 86 40 38 94 78  8  3\n",
      "  14 97 57 60]\n",
      " [ 4 38 37 54 96 11  3 75  9 44 33 69 69 23  9 63 91 73 75 43 58 13 68 76\n",
      "  94 27 15 41 34 89 77 79 67 25 17 25 20 64  4 58 21 99  4 47 37 60 19 73\n",
      "  71 92  5 92 38  4 56 58 99 66 56 70 60 99 12 77  6 72  9 71 17 20 30 50\n",
      "  21 76 91 62 65 43 53 40 55 90 19 76 55 42 83  3 82 23 24 74 64 92 73  5\n",
      "  50  8 97 24]\n",
      " [48 53 64 67 60 92 45 72 10 80 91 25 88 55 82 63 91 63  8 53 15 38 71 31\n",
      "  21 78 84 74  5  5 62 21 16 64 83 24 36  8 34 84 69 24 32 19 53 78 63 20\n",
      "  91 96 55 11 10  7 84 95 14 66 41 60 96  6 93 36 53 12 87 62 11 87 36 99\n",
      "  47 55 41 80 57 56 71 99 93 87 45 75 50 84 91 58 75 41 62 93 22 27 53 28\n",
      "  46 42 99 29]\n",
      " [42 55 92 73 12 81 99 61 56  3 78 16 15 50 43 49 75 23  3 87 69  7 85 94\n",
      "  53 14 16 78 44 80 65 61  7 58 39  3 22 78 58 93 53 65 34 63 60 53 28  3\n",
      "  94 10 41 74 99 25 51 92  7 89  8 93 30 56 96 15  2 25 84  3 18 35 17 42\n",
      "   8 99 83 66 51 30 78 79 19 15 44 83  1 59 90 59 24 37 48 15 88 55 35 13\n",
      "  43 24 98 80]\n",
      " [23 66  9  9 68 13 64 75 32 34 41 44  1  2 38 66 99 41 94 23 64 90 15 95\n",
      "  89 93 79 79 79 17 72 82 84  8 71 41  3 29 56 83 12 79 99 97  8 54 66 45\n",
      "   9 31 53 37 30 93 14 77 14 43 23 88 22 95 55 45 46 80 25 65 41 55 81 73\n",
      "  40  2 90 19 62 36 26 79 34 30 43 36  5 81 24 85 24  1 73 83 96 50 85 35\n",
      "  78 74 87 23]\n",
      " [18 50  4 66 45 72 29 80 66 47  6 52 21 12 33 45 18 41  6 20 40 90 19 51\n",
      "  88 57  8 79 16 40 97 93 82 47 51 30 86  6  2 25 11  7 49 93 50 91 61 97\n",
      "  81 80  9 23 69 73 12  6 91 29 62 46 67 96 45  2  2 82 43 77 91 60 82  8\n",
      "  96 34 29 85 28 50 63 16 93 29  4 56 60 71 78 27 24 82 59 26 90 13 59 85\n",
      "  39 10 91 82]\n",
      " [48  7 44 12 55 93 75 14 64 32  4 97 81 14 97 53 56 24 28 30 63 96 19 21\n",
      "  48 45 51  8 12 11 47 51 91 87 69 72 64 24 47 12 68 64 62 73 12  5 49 27\n",
      "  50 18 88 76 11  2  2 80 45 38 99 38 32 41 10 59 69 87 42 46 44 83  5 93\n",
      "  24  2 45 48 85 49 15 10 61 91 98 91 87 77 89 68 57 32 50 97 20  4 91 65\n",
      "  28  6 98 79]\n",
      " [ 5 83 65  4 74 70 90 37 40  2 65 23 83 63 57 64 97 92 63 63 95 98  2 79\n",
      "  31 78 25 95 24 21 18  6 14 13 16 12 18 49 50 56 50 65 25 10  3 70 96  6\n",
      "  64 78 50 79 25 64 59 88 90 21 52 67 80 80 21 16 82 77 45 61 17 49 22 14\n",
      "  33 11 95 99 80 49 73 97 47 61 62 80 55 37 30 77 59 39 70 65 31 31 20 65\n",
      "  33 48 73 70]\n",
      " [ 6 88 99 74 67 19 67 66 29 82 82 69  6 86 98  4 43 50 86 72 26 41 35 61\n",
      "  79 38 41 49  7 11 10 21 88 27 20 17 11 99 54 44 26 96 40 84 24 61 88  4\n",
      "  30 15 62  1 42  8  1 70 39 28 46 50 23  5 50 91 73 25 28 16 81 66 96 94\n",
      "  94 18 71 88 52  8 49 79 42 34 84 88 33 25 44 55 14 55 34 19 42 41 41 38\n",
      "  39 13 21 90]\n",
      " [ 1 36 68 46 89 91 75 17 90 47 62  6 29 51 96 33 23 95 53 71 46 11  2 53\n",
      "  77 78 98  9 86 26 55 38 94  3 22 89 30 16 79 44 32 56 79 54 33 58 83 55\n",
      "   5 68 49 27 19 46 78 36 88 88 58 39 81 20 31 52 38 52 96 72 54 81 99 72\n",
      "  14 11  4 65 52 58 37 84 53 58 54 20 45 78 99 27  8 27 31 58 90 39 39 40\n",
      "  69 15  2 31]\n",
      " [37 71 39 66 33 86 78 32 55 96 70 78 90 60 73 72 56 23 17 71 41 77 76 46\n",
      "   3 45  4 37 55 35 53 21 28 94  1 10 73 33 77 66 16 82 87 57 25 16 95 50\n",
      "  49 59 28  4 61 61 26 89 82 97 97 83 38 22 62 52 66 59 24 14  2 63  6 40\n",
      "  80 12 66 28 28  1 81 88 37 20  3  7 28 98  6 63 38 84  9 27 16 99 22 29\n",
      "  32 48 51 50]\n",
      " [30 97 73 12 12 62 54 64 38 98 56 43 67 79 36 94 98 68 41 48 38 66 71 96\n",
      "  26 74 68 46 41 18 22 70  2 97 18 84 53 17 93 40 87 92 35 40 85 59 50  1\n",
      "  45  1 20 61 24 97 72 61 25 25  4 78 75 85 97 31 22 97 53 30 42 30 76 16\n",
      "  70 20 75 22  3 49 40 11 79 55 73 49 67 61 38 99 42 37 68 11 14 88 76 35\n",
      "   4 55 22 48]\n",
      " [63 89 16 28  3 46 63 19 55 24 26 38 19 34 51 43 96 72 36 89 85 57 14 98\n",
      "  98 18 27 74 44 25 61 63 45 19 10 14 66 22 20 38 83 75 86 38 13 91  6 51\n",
      "  97 36 85 90  4 21 41 24 12  6 60 81 86 26 96 36 87 36 82 22 78 79 47 63\n",
      "  85 78 98 31 44 83 90 40 86 14 51 36 29 93 76  3  1 28 70 93 80 73  2 84\n",
      "  73 44 40 38]\n",
      " [91 91 26 28 43 28 95 20  1 61 62 17 59  3 56 46 41 30 68 79 72 88  6 98\n",
      "   5 23 70 88 97 37 96 47 71 70 81 36 26 96 35 29 81 93 11 49 68 60 41 96\n",
      "  99 19 40 70 21 66 51 69 63  1  9 58 69 39 39 97 89 75 23 91  2 57 15 57\n",
      "  52 58 86 19 81 18 15 41  5 75 49  1 65 85 42 96 48 34 38 39 24 88 43 14\n",
      "  50 50 68 66]\n",
      " [68  2 71 49 10 78 27 92 11 38 23 11 79 46 68 52 26 32 91 16 24 22 40  2\n",
      "  76 39 32 75 64 32  8 84 97 26 36  8 53 81 67 51  9 42 21 22 30 67 89 45\n",
      "  85 84 55 92 81 49 29 97 10 35 45 34 36 79 33 78 93 85 35 34  7 32 55 46\n",
      "  70 35 80 84 36 81 42 44 76 79 52 82 95 32 91 86 36 10 56 99 63 96 43 82\n",
      "  84 81 22 12]\n",
      " [14 79 54 38  3 68 99 36 88 41 45 32 45 42  6 43  2 69 85 18 66 31 47 13\n",
      "  67 75 18 51 94 80 97 19 57  9 99 30 11 71 10 65 48 63 70 95  7  8 88 13\n",
      "  77 32 81 35 18 87 64 55 61 47 45 60 72 89 15 58 65 78 62 45 29 39  7 26\n",
      "  87 74 17 57 52 83 79 42  6 33 76  3 30 66 68  3  1 69  2 58 12 47 54 14\n",
      "  90 83 48 87]\n",
      " [78 77  5 74 64 84 76 82 66 46 76 92 48 32 24 33 87 80 87 48 27 96 91 41\n",
      "  95 37  6 45 50 11 12 36 75 47 66 87 22 22 17 91 13 38 40 24 51  7 32 49\n",
      "  40 24 39 18 60 38 53 88 88 23 71 47 38 16 51 44 52 25 81 77 85 65 24 24\n",
      "  56 62 51 57 16 48 38 70 68 34 22 79 85 90 32 23 85 69 76 87 21 41  6 73\n",
      "  85 84 90 64]\n",
      " [61 36 95 77 53 38 77 60 79 26 98 80 73 54 11 50 54 57 26 21 68 28 22 71\n",
      "  90 61 63 14 74 81 48 71  5 11 24 66  8 48 52 68 84 74  8 96 52 94 63  6\n",
      "   6 51 56 68 22 38  8 94 99 55 29 86 62 19 35 15 83  9 84 43 69 63 21 50\n",
      "  65 60 44 23 12 49 29 70 51 67 38 24 51 50 64 47 63 42 11 68 20 81 52 11\n",
      "  23 54 37 43]\n",
      " [11 20 60 49 98  5 14 23 57  2 58 61 10 93 34 65 25 63 15 61 75 35 83 77\n",
      "  50 64 18 48 47 22 26 59 12 85 79 54 20 34 90 48 95 26 66 46 88 97  1 74\n",
      "  15 15 87 42 77 68 81 64 96 73 95 68  5 36 98 65 69 58 84 24 44 11 13 16\n",
      "  19 46 91 29 83 53 86 53 82 67 63 98 99 99 71 44 20 26 53  5 80 28 49 29\n",
      "  82 46 89 88]\n",
      " [30 72 66 87 43 32 10 90  7 89 58 38 74 36 57 53 90  1 10 75 98 51  2 65\n",
      "  91 93 35 37 70 38 59 13  4 38 49 59 82 28 79 93 43  9 24 11 18 35 79 22\n",
      "  84 44 63 20 38 79 61 39 57 55 54 30 87 20  7 85 14 80 62 34 75 55 98 25\n",
      "  87  6 73 81 95 40  4 11 63 30 52  1 75 26 44 57 54 22 79 42 20 61 63 84\n",
      "  94 28 89 27]\n",
      " [90 21 57 89 98  6 75 72 30 75 15 91 32 86 87 37 28 15  6 48 71 41 86 39\n",
      "  86 74 16 34 25 11 70 90 52 53 93 54 89 83 68 78 90 11 28 88 41 60 51 54\n",
      "  75 33 48 31 82 74 32 15 91 94 25 67 91 94 39  3 59  8  6 13 71 52 12 19\n",
      "  21 97 76 66 26 21 58 71 51 14  2 11 73 90 55 26 37 98 72 27 95 27  2 41\n",
      "  40 84 40 24]\n",
      " [39 13 90 14 77 10 29 51 10 61 47 68 35 74 85 29 63 71 52 73 60 30 72 56\n",
      "   7 80 24 61 25 28 97 77 85 45 28 41  5 97 14 38 32 16 67 66 54 20 22 71\n",
      "  47 74 46 63 14 40  8 13  7 33 60 78 90 90 53 65 99  2 84 97 31 95 18 60\n",
      "  99 26 69 38 56 62 64 77 54 84 36 25 22 70 13 19 46  3 75 32 75 59 59 58\n",
      "   6 57 26 67]\n",
      " [19 85 29  2 29 60 70 53 90 11 89 14 16 84 38 31 56 14 78 82 39 11 82 85\n",
      "  66 14 99 15 82 42 58 72 42 13 73 96 70 17 66 57 71 51 75 29 61 23 79 38\n",
      "   9  9 66 17 75 50 90 93 88  3 26 44 72 68  2 32 41 64  8 51 99 54 63 24\n",
      "  59 85 27 86 15 35 59 36 53 95 14 86 98 88 65 36 48 16 15 11 89 25 46 42\n",
      "  13 33 68 65]\n",
      " [ 4 62 46 66 26 95 15 73 38 60 61 59 45 97 12 82 30 86  1 83 93 87 57 68\n",
      "  74 87 50 93 71 74  2 11 50 70 34 83 86 86 97 86 74 12 41  4 43 15 58 34\n",
      "   8 59 31 24 24 96 37 33 49 86 82 97 69 61 80 58 71 38 79 71 67 22  8 16\n",
      "  10  7 25 83 39 75 78 34 23 16 35 54 98 80 69 34 69 92 12 86  2 30 17 53\n",
      "  81 30 85 81]\n",
      " [39 88 13 39 11 95 51 55 99 79 80 84 80 12 44 54 35 24 86 49 48 39 20 44\n",
      "  35 22 45 59 56 25 69 86 17 15  4 55 49  1 94 79  9 79 77 97 98 97 73 51\n",
      "  11 25 65 81 12 91 18 82 72  4 50 54 68  9 54 56 82 24 45 87 56 27 53 49\n",
      "  66 90 96 29 67 56 77 20 92 18 23 76 13 49 15  4 26 58  4 34  2 44 51 99\n",
      "  48 53 12 17]\n",
      " [62  1 96  2 29 29 36 67 48 13 53 42 14 97 58 38 52 47 68 76 61 50 40 34\n",
      "  80 78 97 88 77 41 63  7 52 17 82  9 37 54 77 17 49 57 24 98 98 84 19 20\n",
      "  79 53 93 40 37  9 40 17 55 37 49 86 44 72 99 92 59 67 61 88 46 19 17 64\n",
      "  44 71 85 24 36 65 74  8 81 39 74 66 68 79 63 91 87 28 88 93 54  3 68 46\n",
      "  40 50  2 20]\n",
      " [98 47 43 43 52 37 57 36 95 49 56 49  7 16 90 68 68 12  8 77 99 78 52 26\n",
      "  22 22 82 94  6 44 70 21 47  6 82 19 34 54 92 70 68 88 36 98 58 20 87 34\n",
      "  11  8 30 98 31 60 39 36 83 89 92 54 72 82 60 98 89 27 10 57 98 42 58 52\n",
      "  86 95 18 80 34 57 76 44 24 93 96 93 64 96  2 51 27 22 38 23 36  1 50 91\n",
      "  41  6  7 67]\n",
      " [91 18 45 90 78 59 95 49 94 96 54 77 41 89 63 21 50 50 76 18 65 43 80 39\n",
      "  27 80 18 40 53 11 30 11 39 40 11 82 81 36 97 68 58 89 22 50 53 54 24  2\n",
      "  15 76  6 37 13  7 28 12 57 46 45 82 19 37  9  4 84 92  3 23 65 83 21  4\n",
      "  73 85 27  3  7 49 97 56 69 40 34 44 61 89 82 86 79 71 70 49 34 89 22 17\n",
      "   4 42 59  1]\n",
      " [63 22 12  8 86 83 41 99 57 89 45 93 73  7 10 71 67 58 32  7 31 84 81 77\n",
      "  21 62 63 34 25 26 54 87 65 58  9 92 87 51 16 60 49 80 19 72 66 71 33 88\n",
      "  39 54 75  2  5 39 59 47 86 63 50 87 77 70  6 89  5 67 77 88 45 25 32 19\n",
      "  65 75 42  4 26 39 44 45 40 44 95  1 71  7 24 55 52 46 71 98 86 70 95 80\n",
      "  71 24 71 83]\n",
      " [95 87 25 81 64 54 57 92 44 55 88 50 28 44 60 52 71 30 92 59 57 83  8 43\n",
      "  58 15 37 42 94 18  2 96 86  5 18 67 71 72 31 79 12 78 52 34 93 81 29 48\n",
      "  66 98 48 64 84 42 11 14 17 89 71 62 29 44 51 14 32 55 71 56 20 47 21 21\n",
      "  53 27 21 35 54 68 36 59 42 35 32 52  4 77 46 43 43 96 80 16 86 22 97 81\n",
      "  39 87 73 79]\n",
      " [70 13 74 82 94 64  5 53 87 10 53 13 38 36 88 23 38 87 89 82 94 71 93  9\n",
      "  83 93 85 68 87 84 41 74 43 29 28 79 22 64 11 79 76 54 29 95 14 76 24 32\n",
      "  13 51 97 54  6 83 73 64 36 61 53 19 29 62 79 32 41 11 20 34 19 51 19 70\n",
      "  94 34 27  2 81 31  6 46 65  3 91 89 44 30 52 74 18 53 77 44 77 48 90 64\n",
      "  19 94  1 72]\n",
      " [71 54 10 18 89 22 86 71 70 14 35 80 22 99 97 52 84 49 62 19 83 68 71 17\n",
      "  62 82 94 38 48  5 72 74 83 97 93 23 65 96 85 96 80 10 48 18 74 44 27 62\n",
      "  66 42 28 69 45 26 74 66 30 69 64 85 68 47 80 14 20 51 79 99 54 29 15 61\n",
      "  23 40 95 18  8  9 57 74  6 30 87 77 66 49 11 81 66 59 32 84 45  1 89 74\n",
      "  42  3 86 88]\n",
      " [23 27 11 69 30 87 32 86  4 36 18 48 21 28 67 37 27  8 73 60 95 88 90 51\n",
      "  58 47 19 71 36  5 30 75 40 44 92 95 30 45 30 45 55 40 39 13 91 10 55  6\n",
      "  73 99 25 62 66 69 14 73 56 92 93 95 28 50 65 29 57  2 49 98 46 26 15 16\n",
      "  54 50 78 58 99 34 10 38 80 14 93 95 19 91 69 39 29 47 99 88 44 37 35 62\n",
      "  61 10  3 92]\n",
      " [13 26 75 51 88 57 93 59 35 33  3 76 14 17 59 81 67 21  3 80 19 26 91 88\n",
      "   1 86  4 69 34 29 47 63  3 38 78 99 68 85  3 36 23 42 53 54 52 35 32 69\n",
      "  79 94 93 25 56 94 87 95 66 36 38 58 41  2 15 85 45  2 46 89 88 97  9 74\n",
      "  10 85 33 63 20 13 29 51 13 82 28 40 51 49  8 56 61 22 11 33 18 58 62 55\n",
      "  63 89 88 85]\n",
      " [14 13 18  3 21 56 69 78 51  2 11 46 62 59 73  2 43 95 96 55 11 18 99 80\n",
      "  64 89 63 41  9 41  6 57 27 86 99 97 25 55 81 50 36 63 96 76 79 95  9 88\n",
      "   3  6 86 55 71 84 77  8 45 80  9 20 54 24 45 88 82 44 72  7 92  8 92 50\n",
      "  19 54 46 94  3 75  9 84 70 19 61 31 95  1 49 60 40 31 77 87 37 81 59  2\n",
      "  45 66 20 24]\n",
      " [40 99 35 24 64 66 30 15 39 17 88 16 86 70 55 71 12 88 10 25 50 27  7 39\n",
      "  86 33  1 60 73 46 10 78 12 72 15 18 30 60 34 96 39 29  8 96 77 16 13  8\n",
      "   2 45 68 92 11 64 72 43 50 88 53 80 35 81 25  8 33 49 88  9  2 50 24 99\n",
      "  65  4 78 14 81 77 54 91 92 80 61 10 77 62 94 97 64 17 16 71 82 70 95 34\n",
      "  80 36 26 53]\n",
      " [45 18 39 50 53 63 12 57 97 66  5 31 69 32 16 86 30 72 98 57 97 49 29 66\n",
      "  14 66 74  6 23 89 46 58 90 61 87  6 11 16 36 95 64 85 78 47  1 13 46 73\n",
      "  16 86 79 85 62 71 33 49 12 17 15 20 84 63  2 31 38 93 18 41 39 59 33 12\n",
      "  93 75  2 94 82 76 71 68 96 86 62 85 78 28 14 75 57 43 34 36 36 89  4 46\n",
      "  30 56 62  5]\n",
      " [72  5 88 69 93 20 49 81 81 68 26 99 36 69 28 90 29 10 47 36 84 89 56 11\n",
      "  87 71 37 50 71 54 47  5 55 63 32 90 44 12 58 87 25 17  1 14 71 21 77 93\n",
      "  63 19 67 43 59 78 50 69  6 50 71 84 20 16 92 37 59 38  8 66 57  3 40  5\n",
      "  56 19 26 84 27  3 96 88 23 74 22 29 17 59 72 67 31 12 21 82 49 90 28 97\n",
      "  57 76 42 89]\n",
      " [69 28 52 60 96 55  7 48 43 85 13 89 85 44 73 33 63 47 79 75 83 53 85 42\n",
      "  45 74 91 77 15 12 60 40 40  3  3 21  9 94 80 94 32 43 46 23  4  2 18 27\n",
      "  93 66  9 96 44 46 27  9 31 51  4 17 70 87 24  2 53 98 44 95 92 73 49 91\n",
      "  87 74 98 48 10 42 70 57 78 96 19 94 82  9 57 57 43 73  3 76 47 40 54 31\n",
      "  35 94  4 49]\n",
      " [97 89 27 61 76 64 64 13 51 37 58 46 98 76 73 80 33 38 76 57 47 37 32 22\n",
      "  91 66 64 50 28 85  5 38  5 75 39 57 91 72 54 81 28 38 62 63 62  4 21 33\n",
      "  57 17 77 56 43 83 62 41 50  7 90 30 51 94 41 53 25 38 62 26  3 80 52 79\n",
      "  40 32 70 37 57 93 32 90 56  6 95 79 68 35 51 20  1 13 65 18 58 12 51 68\n",
      "  16 75  2 92]\n",
      " [21 24  6  7 50 17 70 42 72 18  4 31 33 34 99 78 80 90 62  3 66 30  6 62\n",
      "  89 53  8  4 72 54 41 38 33 43 22 44 40 16 17 93 18 94 34 95 92 21 38 23\n",
      "  23 18 37 33 49 73 30 35 76 69 21 18 53 21 43 59 36 55 75 27 80 52  9 12\n",
      "  78 93 28  8 94  6 40 77 51 83 42 33  5 35 20 83  7  1 27 13  7 44 94 89\n",
      "  74 44 88 24]\n",
      " [69 30 85 14 39 21 62 17 25 38 61 80 99 38 29 28 34 17 22 30 25  9 43 48\n",
      "  40 95 44  1 28 83 82 32  8 96 79 46 12 15 88  3 83 50 52 13 84 82 14 64\n",
      "  37 38 44 83 60 96 61 73 24 70  4 44 49 11 84 59 65 14 10 43 51 34 88 12\n",
      "  41 66 64 65 58  1 91 97 86 17 11 42 32 42 80 64  1 37 41 42 76 57 54 58\n",
      "  79 38 89 99]\n",
      " [28 21 69 67 15 32 29 96 18 28 19 67 88 23 34 34 49 64 43 90 26 38 73 54\n",
      "  48 41  6 44 22 80 16 37 30 29 67 88 98 46 59 12 64 69 50 96 19 81 90 89\n",
      "  22 66 76  7 22 94 69  7 70 47 58 83 98 96 83 85 28 41 93 48 79 12 38 64\n",
      "  76 46 77 38 15 89 39 47 33 64 69 68 82 11 53 51  3 52 31 74 76 32 12 84\n",
      "  32 53 19 68]\n",
      " [72 93 51 82  9 20 35 98 38 84 38  8 28 28 53 83 80 52 33  8 53  1 47 20\n",
      "  10 93 83 90 19 46 56  6  8 57 84 90 10 79 45 73 60 48 11 19 83 65 76 62\n",
      "  10 86 49 25 62 40 35 54 11 44 84 35 14 83 36 68  9 83 46 16 49 21 44 12\n",
      "  72 99  6 81 41 67 78 44  9 68 10 95 97 71 83 17 49  7 60 91 68 57 52 15\n",
      "  14 58 93  8]\n",
      " [ 1 23 21 23 38 31 47 51 78 44 85 67  2 25 54 63 73 43 23 84 74 65 90 13\n",
      "  96 24 34 72  8 52 96 52 39 12 82 97 86 90 52 16 31 50  4 36 45 97 58 75\n",
      "  88 88  9 45 58 19 43 84 99 98 20 90 40 13  7 60 66 11  5 80 18 89 84 76\n",
      "  37 78 96  9 10 77 79 42 80 88 91 86 49 14 39 34 53 21 45 33 52 60 57 64\n",
      "  92 43 93  5]\n",
      " [66 63 89 23 44  3 88 74 16 84 71 54 95 98 70 55  9 73 68 16 13 50 36 39\n",
      "  23 28 34 34 84 43 25 17 92 91 85 87 24 99 78 46 40 70 30 28 79 95 83 36\n",
      "  17  3 52 32  6 71 33 10 87 71 21 44 63 28 50 46 54 88 34 80 36  2 99 61\n",
      "  63 80 54 82 74 28 30 79 50 95 92 13 89 29 68 64 53 41 63 38 76 98 84 13\n",
      "  53 58  6 15]\n",
      " [67 56 44 69 20 34 42 67 15 50 89 88  8 57 67 57 12 65 41  6 16 65  1 84\n",
      "  16  7 14 57 62 90 41 61 17 62  9  8 83 18 24 27 11 70 95 90 99 99  5 60\n",
      "  97 56 40 60 46  4 59 20 77  6 75 84 43 56 29 35 75 62 42 51  3 13 64 58\n",
      "  53 36  6 13 88 51 60 62  3 96 93 76 96 86 13 77 55 88 33 66 84 65 13 23\n",
      "  42 31 74 28]\n",
      " [35  8 53 59 75  7 21 41 58  3 48 73 99  5 86 59 12 52 24 11 19  8 94 18\n",
      "  83 18 85 31 59 98 58 70 60 32 38 53 76 87 60 58 19 17 20 51 42 96 27  7\n",
      "  70 90 93 17 53 86 92 35 29 32  6 76 16 92 61 96 49 73 63 68 65 30 32 48\n",
      "  50 32 85 34 96 72 56 59 30 42 27 53 96 36  8 28 70 38 51 61 21 68 37 94\n",
      "  24 51 71 73]\n",
      " [92 57 85 97 68 71 66 15 50 18 84 49 84 99 27 38 51 85 73 60 61 70 61 31\n",
      "  65 16 55 96 60  5 76 57 66 68 96 93 66  2 21 65 19 30 14 18 94 89 64  8\n",
      "   3 39 79 74 21 12  9 27 89 96  8 63 18 21 44 62 94 52  8 53 66 21 68 71\n",
      "   7 52 28 61 73 40 60 68 54 94 28 76 13 24 67 99 34 68 80 92 47 94 62  2\n",
      "  97  2 77 76]]\n"
     ]
    }
   ],
   "source": [
    "np.set_printoptions(threshold=np.nan)\n",
    "array = np.random.randint(1,100,(100,100))\n",
    "print(array)"
   ]
  },
  {
   "cell_type": "markdown",
   "metadata": {
    "button": false,
    "new_sheet": false,
    "run_control": {
     "read_only": false
    }
   },
   "source": [
    "#### 50. How to find the closest value (to a given scalar) in a vector? (★★☆)"
   ]
  },
  {
   "cell_type": "code",
   "execution_count": 3,
   "metadata": {
    "button": false,
    "new_sheet": false,
    "run_control": {
     "read_only": false
    }
   },
   "outputs": [
    {
     "name": "stdout",
     "output_type": "stream",
     "text": [
      "[0 1 2 3 4 5 6 7 8 9]\n"
     ]
    },
    {
     "data": {
      "text/plain": [
       "8"
      ]
     },
     "execution_count": 3,
     "metadata": {},
     "output_type": "execute_result"
    }
   ],
   "source": [
    "import numpy as np\n",
    "array = np.arange(10)\n",
    "print(array)\n",
    "\n",
    "def closest(array, scalar):\n",
    "    '''Finds closest value to a given scalar in a numpy array'''\n",
    "    return np.abs(array-scalar).argmin()\n",
    "\n",
    "closest(array, 8.26)"
   ]
  },
  {
   "cell_type": "markdown",
   "metadata": {
    "button": false,
    "new_sheet": false,
    "run_control": {
     "read_only": false
    }
   },
   "source": [
    "#### 51. Create a structured array representing a position (x,y) and a color (r,g,b) (★★☆)"
   ]
  },
  {
   "cell_type": "code",
   "execution_count": 4,
   "metadata": {
    "button": false,
    "new_sheet": false,
    "run_control": {
     "read_only": false
    }
   },
   "outputs": [
    {
     "name": "stdout",
     "output_type": "stream",
     "text": [
      "[(( 0.,  0.), ( 0.,  0.,  0.)) (( 0.,  0.), ( 0.,  0.,  0.))\n",
      " (( 0.,  0.), ( 0.,  0.,  0.)) (( 0.,  0.), ( 0.,  0.,  0.))\n",
      " (( 0.,  0.), ( 0.,  0.,  0.)) (( 0.,  0.), ( 0.,  0.,  0.))\n",
      " (( 0.,  0.), ( 0.,  0.,  0.)) (( 0.,  0.), ( 0.,  0.,  0.))\n",
      " (( 0.,  0.), ( 0.,  0.,  0.)) (( 0.,  0.), ( 0.,  0.,  0.))]\n"
     ]
    }
   ],
   "source": [
    "pos_color = np.zeros(10, [ ('position', [ ('x', float, 1),('y', float, 1)]),\n",
    "                          ('color',    [ ('r', float, 1),('g', float, 1),('b', float, 1)])])\n",
    "print(pos_color)"
   ]
  },
  {
   "cell_type": "markdown",
   "metadata": {
    "button": false,
    "new_sheet": false,
    "run_control": {
     "read_only": false
    }
   },
   "source": [
    "#### 52. Consider a random vector with shape (100,2) representing coordinates, find point by point distances (★★☆)"
   ]
  },
  {
   "cell_type": "code",
   "execution_count": 7,
   "metadata": {
    "button": false,
    "new_sheet": false,
    "run_control": {
     "read_only": false
    }
   },
   "outputs": [
    {
     "name": "stdout",
     "output_type": "stream",
     "text": [
      "<class 'numpy.ndarray'>\n"
     ]
    }
   ],
   "source": [
    "np.random.seed(42)\n",
    "\n",
    "coordinates = np.random.random((100,2))\n",
    "\n",
    "x,y = coordinates[:,0], coordinates[:,1]\n",
    "print(type(x))\n"
   ]
  },
  {
   "cell_type": "markdown",
   "metadata": {
    "button": false,
    "new_sheet": false,
    "run_control": {
     "read_only": false
    }
   },
   "source": [
    "#### 53. How to convert a float (32 bits) array into an integer (32 bits) in place?"
   ]
  },
  {
   "cell_type": "code",
   "execution_count": null,
   "metadata": {
    "button": false,
    "collapsed": true,
    "new_sheet": false,
    "run_control": {
     "read_only": false
    }
   },
   "outputs": [],
   "source": []
  },
  {
   "cell_type": "markdown",
   "metadata": {
    "button": false,
    "new_sheet": false,
    "run_control": {
     "read_only": false
    }
   },
   "source": [
    "#### 54. How to read the following file? (★★☆)"
   ]
  },
  {
   "cell_type": "markdown",
   "metadata": {
    "button": false,
    "new_sheet": false,
    "run_control": {
     "read_only": false
    }
   },
   "source": [
    "```\n",
    "1, 2, 3, 4, 5\n",
    "6,  ,  , 7, 8\n",
    " ,  , 9,10,11\n",
    "```"
   ]
  },
  {
   "cell_type": "code",
   "execution_count": null,
   "metadata": {
    "button": false,
    "collapsed": true,
    "new_sheet": false,
    "run_control": {
     "read_only": false
    }
   },
   "outputs": [],
   "source": []
  },
  {
   "cell_type": "markdown",
   "metadata": {
    "button": false,
    "new_sheet": false,
    "run_control": {
     "read_only": false
    }
   },
   "source": [
    "#### 55. What is the equivalent of enumerate for numpy arrays? (★★☆)"
   ]
  },
  {
   "cell_type": "code",
   "execution_count": null,
   "metadata": {
    "button": false,
    "collapsed": true,
    "new_sheet": false,
    "run_control": {
     "read_only": false
    }
   },
   "outputs": [],
   "source": []
  },
  {
   "cell_type": "markdown",
   "metadata": {
    "button": false,
    "new_sheet": false,
    "run_control": {
     "read_only": false
    }
   },
   "source": [
    "#### 56. Generate a generic 2D Gaussian-like array (★★☆)"
   ]
  },
  {
   "cell_type": "code",
   "execution_count": null,
   "metadata": {
    "button": false,
    "collapsed": true,
    "new_sheet": false,
    "run_control": {
     "read_only": false
    }
   },
   "outputs": [],
   "source": []
  },
  {
   "cell_type": "markdown",
   "metadata": {
    "button": false,
    "new_sheet": false,
    "run_control": {
     "read_only": false
    }
   },
   "source": [
    "#### 57. How to randomly place p elements in a 2D array? (★★☆)"
   ]
  },
  {
   "cell_type": "code",
   "execution_count": null,
   "metadata": {
    "button": false,
    "collapsed": true,
    "new_sheet": false,
    "run_control": {
     "read_only": false
    }
   },
   "outputs": [],
   "source": []
  },
  {
   "cell_type": "markdown",
   "metadata": {
    "button": false,
    "new_sheet": false,
    "run_control": {
     "read_only": false
    }
   },
   "source": [
    "#### 58. Subtract the mean of each row of a matrix (★★☆)"
   ]
  },
  {
   "cell_type": "code",
   "execution_count": null,
   "metadata": {
    "button": false,
    "collapsed": true,
    "new_sheet": false,
    "run_control": {
     "read_only": false
    }
   },
   "outputs": [],
   "source": []
  },
  {
   "cell_type": "markdown",
   "metadata": {
    "button": false,
    "new_sheet": false,
    "run_control": {
     "read_only": false
    }
   },
   "source": [
    "#### 59. How to sort an array by the nth column? (★★☆)"
   ]
  },
  {
   "cell_type": "code",
   "execution_count": null,
   "metadata": {
    "button": false,
    "collapsed": true,
    "new_sheet": false,
    "run_control": {
     "read_only": false
    }
   },
   "outputs": [],
   "source": []
  },
  {
   "cell_type": "markdown",
   "metadata": {
    "button": false,
    "new_sheet": false,
    "run_control": {
     "read_only": false
    }
   },
   "source": [
    "#### 60. How to tell if a given 2D array has null columns? (★★☆)"
   ]
  },
  {
   "cell_type": "code",
   "execution_count": null,
   "metadata": {
    "button": false,
    "collapsed": true,
    "new_sheet": false,
    "run_control": {
     "read_only": false
    }
   },
   "outputs": [],
   "source": []
  },
  {
   "cell_type": "markdown",
   "metadata": {
    "button": false,
    "new_sheet": false,
    "run_control": {
     "read_only": false
    }
   },
   "source": [
    "#### 61. Find the nearest value from a given value in an array (★★☆)"
   ]
  },
  {
   "cell_type": "code",
   "execution_count": null,
   "metadata": {
    "button": false,
    "collapsed": true,
    "new_sheet": false,
    "run_control": {
     "read_only": false
    }
   },
   "outputs": [],
   "source": []
  },
  {
   "cell_type": "markdown",
   "metadata": {
    "button": false,
    "new_sheet": false,
    "run_control": {
     "read_only": false
    }
   },
   "source": [
    "#### 62. Considering two arrays with shape (1,3) and (3,1), how to compute their sum using an iterator? (★★☆)"
   ]
  },
  {
   "cell_type": "code",
   "execution_count": null,
   "metadata": {
    "button": false,
    "collapsed": true,
    "new_sheet": false,
    "run_control": {
     "read_only": false
    }
   },
   "outputs": [],
   "source": []
  },
  {
   "cell_type": "markdown",
   "metadata": {
    "button": false,
    "new_sheet": false,
    "run_control": {
     "read_only": false
    }
   },
   "source": [
    "#### 63. Create an array class that has a name attribute (★★☆)"
   ]
  },
  {
   "cell_type": "code",
   "execution_count": null,
   "metadata": {
    "button": false,
    "collapsed": true,
    "new_sheet": false,
    "run_control": {
     "read_only": false
    }
   },
   "outputs": [],
   "source": []
  },
  {
   "cell_type": "markdown",
   "metadata": {
    "button": false,
    "new_sheet": false,
    "run_control": {
     "read_only": false
    }
   },
   "source": [
    "#### 64. Consider a given vector, how to add 1 to each element indexed by a second vector (be careful with repeated indices)? (★★★)"
   ]
  },
  {
   "cell_type": "code",
   "execution_count": null,
   "metadata": {
    "button": false,
    "collapsed": true,
    "new_sheet": false,
    "run_control": {
     "read_only": false
    }
   },
   "outputs": [],
   "source": []
  },
  {
   "cell_type": "markdown",
   "metadata": {
    "button": false,
    "new_sheet": false,
    "run_control": {
     "read_only": false
    }
   },
   "source": [
    "#### 65. How to accumulate elements of a vector (X) to an array (F) based on an index list (I)? (★★★)"
   ]
  },
  {
   "cell_type": "code",
   "execution_count": null,
   "metadata": {
    "button": false,
    "collapsed": true,
    "new_sheet": false,
    "run_control": {
     "read_only": false
    }
   },
   "outputs": [],
   "source": []
  },
  {
   "cell_type": "markdown",
   "metadata": {
    "button": false,
    "new_sheet": false,
    "run_control": {
     "read_only": false
    }
   },
   "source": [
    "#### 66. Considering a (w,h,3) image of (dtype=ubyte), compute the number of unique colors (★★★)"
   ]
  },
  {
   "cell_type": "code",
   "execution_count": null,
   "metadata": {
    "button": false,
    "collapsed": true,
    "new_sheet": false,
    "run_control": {
     "read_only": false
    }
   },
   "outputs": [],
   "source": []
  },
  {
   "cell_type": "markdown",
   "metadata": {
    "button": false,
    "new_sheet": false,
    "run_control": {
     "read_only": false
    }
   },
   "source": [
    "#### 67. Considering a four dimensions array, how to get sum over the last two axis at once? (★★★)"
   ]
  },
  {
   "cell_type": "code",
   "execution_count": null,
   "metadata": {
    "button": false,
    "collapsed": true,
    "new_sheet": false,
    "run_control": {
     "read_only": false
    }
   },
   "outputs": [],
   "source": []
  },
  {
   "cell_type": "markdown",
   "metadata": {
    "button": false,
    "new_sheet": false,
    "run_control": {
     "read_only": false
    }
   },
   "source": [
    "#### 68. Considering a one-dimensional vector D, how to compute means of subsets of D using a vector S of same size describing subset  indices? (★★★)"
   ]
  },
  {
   "cell_type": "code",
   "execution_count": null,
   "metadata": {
    "button": false,
    "collapsed": true,
    "new_sheet": false,
    "run_control": {
     "read_only": false
    }
   },
   "outputs": [],
   "source": []
  },
  {
   "cell_type": "markdown",
   "metadata": {
    "button": false,
    "new_sheet": false,
    "run_control": {
     "read_only": false
    }
   },
   "source": [
    "#### 69. How to get the diagonal of a dot product? (★★★)"
   ]
  },
  {
   "cell_type": "code",
   "execution_count": null,
   "metadata": {
    "button": false,
    "collapsed": true,
    "new_sheet": false,
    "run_control": {
     "read_only": false
    }
   },
   "outputs": [],
   "source": []
  },
  {
   "cell_type": "markdown",
   "metadata": {
    "button": false,
    "new_sheet": false,
    "run_control": {
     "read_only": false
    }
   },
   "source": [
    "#### 70. Consider the vector \\[1, 2, 3, 4, 5\\], how to build a new vector with 3 consecutive zeros interleaved between each value? (★★★)"
   ]
  },
  {
   "cell_type": "code",
   "execution_count": null,
   "metadata": {
    "button": false,
    "collapsed": true,
    "new_sheet": false,
    "run_control": {
     "read_only": false
    }
   },
   "outputs": [],
   "source": []
  },
  {
   "cell_type": "markdown",
   "metadata": {
    "button": false,
    "new_sheet": false,
    "run_control": {
     "read_only": false
    }
   },
   "source": [
    "#### 71. Consider an array of dimension (5,5,3), how to mulitply it by an array with dimensions (5,5)? (★★★)"
   ]
  },
  {
   "cell_type": "code",
   "execution_count": null,
   "metadata": {
    "button": false,
    "collapsed": true,
    "new_sheet": false,
    "run_control": {
     "read_only": false
    }
   },
   "outputs": [],
   "source": []
  },
  {
   "cell_type": "markdown",
   "metadata": {
    "button": false,
    "new_sheet": false,
    "run_control": {
     "read_only": false
    }
   },
   "source": [
    "#### 72. How to swap two rows of an array? (★★★)"
   ]
  },
  {
   "cell_type": "code",
   "execution_count": null,
   "metadata": {
    "button": false,
    "collapsed": true,
    "new_sheet": false,
    "run_control": {
     "read_only": false
    }
   },
   "outputs": [],
   "source": []
  },
  {
   "cell_type": "markdown",
   "metadata": {
    "button": false,
    "new_sheet": false,
    "run_control": {
     "read_only": false
    }
   },
   "source": [
    "#### 73. Consider a set of 10 triplets describing 10 triangles (with shared vertices), find the set of unique line segments composing all the  triangles (★★★)"
   ]
  },
  {
   "cell_type": "code",
   "execution_count": null,
   "metadata": {
    "button": false,
    "collapsed": true,
    "new_sheet": false,
    "run_control": {
     "read_only": false
    }
   },
   "outputs": [],
   "source": []
  },
  {
   "cell_type": "markdown",
   "metadata": {
    "button": false,
    "new_sheet": false,
    "run_control": {
     "read_only": false
    }
   },
   "source": [
    "#### 74. Given an array C that is a bincount, how to produce an array A such that np.bincount(A) == C? (★★★)"
   ]
  },
  {
   "cell_type": "code",
   "execution_count": null,
   "metadata": {
    "button": false,
    "collapsed": true,
    "new_sheet": false,
    "run_control": {
     "read_only": false
    }
   },
   "outputs": [],
   "source": []
  },
  {
   "cell_type": "markdown",
   "metadata": {
    "button": false,
    "new_sheet": false,
    "run_control": {
     "read_only": false
    }
   },
   "source": [
    "#### 75. How to compute averages using a sliding window over an array? (★★★)"
   ]
  },
  {
   "cell_type": "code",
   "execution_count": null,
   "metadata": {
    "button": false,
    "collapsed": true,
    "new_sheet": false,
    "run_control": {
     "read_only": false
    }
   },
   "outputs": [],
   "source": []
  },
  {
   "cell_type": "markdown",
   "metadata": {
    "button": false,
    "new_sheet": false,
    "run_control": {
     "read_only": false
    }
   },
   "source": [
    "#### 76. Consider a one-dimensional array Z, build a two-dimensional array whose first row is (Z\\[0\\],Z\\[1\\],Z\\[2\\]) and each subsequent row is  shifted by 1 (last row should be (Z\\[-3\\],Z\\[-2\\],Z\\[-1\\]) (★★★)"
   ]
  },
  {
   "cell_type": "code",
   "execution_count": null,
   "metadata": {
    "button": false,
    "collapsed": true,
    "new_sheet": false,
    "run_control": {
     "read_only": false
    }
   },
   "outputs": [],
   "source": []
  },
  {
   "cell_type": "markdown",
   "metadata": {
    "button": false,
    "new_sheet": false,
    "run_control": {
     "read_only": false
    }
   },
   "source": [
    "#### 77. How to negate a boolean, or to change the sign of a float inplace? (★★★)"
   ]
  },
  {
   "cell_type": "code",
   "execution_count": null,
   "metadata": {
    "button": false,
    "collapsed": true,
    "new_sheet": false,
    "run_control": {
     "read_only": false
    }
   },
   "outputs": [],
   "source": []
  },
  {
   "cell_type": "markdown",
   "metadata": {
    "button": false,
    "new_sheet": false,
    "run_control": {
     "read_only": false
    }
   },
   "source": [
    "#### 78. Consider 2 sets of points P0,P1 describing lines (2d) and a point p, how to compute distance from p to each line i  (P0\\[i\\],P1\\[i\\])? (★★★)"
   ]
  },
  {
   "cell_type": "code",
   "execution_count": null,
   "metadata": {
    "button": false,
    "collapsed": true,
    "new_sheet": false,
    "run_control": {
     "read_only": false
    }
   },
   "outputs": [],
   "source": []
  },
  {
   "cell_type": "markdown",
   "metadata": {
    "button": false,
    "new_sheet": false,
    "run_control": {
     "read_only": false
    }
   },
   "source": [
    "#### 79. Consider 2 sets of points P0,P1 describing lines (2d) and a set of points P, how to compute distance from each point j (P\\[j\\]) to each line i (P0\\[i\\],P1\\[i\\])? (★★★)"
   ]
  },
  {
   "cell_type": "code",
   "execution_count": null,
   "metadata": {
    "button": false,
    "collapsed": true,
    "new_sheet": false,
    "run_control": {
     "read_only": false
    }
   },
   "outputs": [],
   "source": []
  },
  {
   "cell_type": "markdown",
   "metadata": {
    "button": false,
    "new_sheet": false,
    "run_control": {
     "read_only": false
    }
   },
   "source": [
    "#### 80. Consider an arbitrary array, write a function that extract a subpart with a fixed shape and centered on a given element (pad with a `fill` value when necessary) (★★★)"
   ]
  },
  {
   "cell_type": "code",
   "execution_count": null,
   "metadata": {
    "button": false,
    "collapsed": true,
    "new_sheet": false,
    "run_control": {
     "read_only": false
    }
   },
   "outputs": [],
   "source": []
  },
  {
   "cell_type": "markdown",
   "metadata": {
    "button": false,
    "new_sheet": false,
    "run_control": {
     "read_only": false
    }
   },
   "source": [
    "#### 81. Consider an array Z = \\[1,2,3,4,5,6,7,8,9,10,11,12,13,14\\], how to generate an array R = \\[\\[1,2,3,4\\], \\[2,3,4,5\\], \\[3,4,5,6\\], ..., \\[11,12,13,14\\]\\]? (★★★)"
   ]
  },
  {
   "cell_type": "code",
   "execution_count": null,
   "metadata": {
    "button": false,
    "collapsed": true,
    "new_sheet": false,
    "run_control": {
     "read_only": false
    }
   },
   "outputs": [],
   "source": []
  },
  {
   "cell_type": "markdown",
   "metadata": {
    "button": false,
    "new_sheet": false,
    "run_control": {
     "read_only": false
    }
   },
   "source": [
    "#### 82. Compute a matrix rank (★★★)"
   ]
  },
  {
   "cell_type": "code",
   "execution_count": null,
   "metadata": {
    "button": false,
    "collapsed": true,
    "new_sheet": false,
    "run_control": {
     "read_only": false
    }
   },
   "outputs": [],
   "source": []
  },
  {
   "cell_type": "markdown",
   "metadata": {
    "button": false,
    "new_sheet": false,
    "run_control": {
     "read_only": false
    }
   },
   "source": [
    "#### 83. How to find the most frequent value in an array?"
   ]
  },
  {
   "cell_type": "code",
   "execution_count": null,
   "metadata": {
    "button": false,
    "collapsed": true,
    "new_sheet": false,
    "run_control": {
     "read_only": false
    }
   },
   "outputs": [],
   "source": []
  },
  {
   "cell_type": "markdown",
   "metadata": {
    "button": false,
    "new_sheet": false,
    "run_control": {
     "read_only": false
    }
   },
   "source": [
    "#### 84. Extract all the contiguous 3x3 blocks from a random 10x10 matrix (★★★)"
   ]
  },
  {
   "cell_type": "code",
   "execution_count": null,
   "metadata": {
    "button": false,
    "collapsed": true,
    "new_sheet": false,
    "run_control": {
     "read_only": false
    }
   },
   "outputs": [],
   "source": []
  },
  {
   "cell_type": "markdown",
   "metadata": {
    "button": false,
    "new_sheet": false,
    "run_control": {
     "read_only": false
    }
   },
   "source": [
    "#### 85. Create a 2D array subclass such that Z\\[i,j\\] == Z\\[j,i\\] (★★★)"
   ]
  },
  {
   "cell_type": "code",
   "execution_count": null,
   "metadata": {
    "button": false,
    "collapsed": true,
    "new_sheet": false,
    "run_control": {
     "read_only": false
    }
   },
   "outputs": [],
   "source": []
  },
  {
   "cell_type": "markdown",
   "metadata": {
    "button": false,
    "new_sheet": false,
    "run_control": {
     "read_only": false
    }
   },
   "source": [
    "#### 86. Consider a set of p matrices wich shape (n,n) and a set of p vectors with shape (n,1). How to compute the sum of of the p matrix products at once? (result has shape (n,1)) (★★★)"
   ]
  },
  {
   "cell_type": "code",
   "execution_count": null,
   "metadata": {
    "button": false,
    "collapsed": true,
    "new_sheet": false,
    "run_control": {
     "read_only": false
    }
   },
   "outputs": [],
   "source": []
  },
  {
   "cell_type": "markdown",
   "metadata": {
    "button": false,
    "new_sheet": false,
    "run_control": {
     "read_only": false
    }
   },
   "source": [
    "#### 87. Consider a 16x16 array, how to get the block-sum (block size is 4x4)? (★★★)"
   ]
  },
  {
   "cell_type": "code",
   "execution_count": null,
   "metadata": {
    "button": false,
    "collapsed": true,
    "new_sheet": false,
    "run_control": {
     "read_only": false
    }
   },
   "outputs": [],
   "source": []
  },
  {
   "cell_type": "markdown",
   "metadata": {
    "button": false,
    "new_sheet": false,
    "run_control": {
     "read_only": false
    }
   },
   "source": [
    "#### 88. How to implement the Game of Life using numpy arrays? (★★★)"
   ]
  },
  {
   "cell_type": "code",
   "execution_count": null,
   "metadata": {
    "button": false,
    "collapsed": true,
    "new_sheet": false,
    "run_control": {
     "read_only": false
    }
   },
   "outputs": [],
   "source": []
  },
  {
   "cell_type": "markdown",
   "metadata": {
    "button": false,
    "new_sheet": false,
    "run_control": {
     "read_only": false
    }
   },
   "source": [
    "#### 89. How to get the n largest values of an array (★★★)"
   ]
  },
  {
   "cell_type": "code",
   "execution_count": null,
   "metadata": {
    "button": false,
    "collapsed": true,
    "new_sheet": false,
    "run_control": {
     "read_only": false
    }
   },
   "outputs": [],
   "source": []
  },
  {
   "cell_type": "markdown",
   "metadata": {
    "button": false,
    "new_sheet": false,
    "run_control": {
     "read_only": false
    }
   },
   "source": [
    "#### 90. Given an arbitrary number of vectors, build the cartesian product (every combinations of every item) (★★★)"
   ]
  },
  {
   "cell_type": "code",
   "execution_count": null,
   "metadata": {
    "button": false,
    "collapsed": true,
    "new_sheet": false,
    "run_control": {
     "read_only": false
    },
    "scrolled": true
   },
   "outputs": [],
   "source": []
  },
  {
   "cell_type": "markdown",
   "metadata": {
    "button": false,
    "new_sheet": false,
    "run_control": {
     "read_only": false
    }
   },
   "source": [
    "#### 91. How to create a record array from a regular array? (★★★)"
   ]
  },
  {
   "cell_type": "code",
   "execution_count": null,
   "metadata": {
    "button": false,
    "collapsed": true,
    "new_sheet": false,
    "run_control": {
     "read_only": false
    }
   },
   "outputs": [],
   "source": []
  },
  {
   "cell_type": "markdown",
   "metadata": {
    "button": false,
    "new_sheet": false,
    "run_control": {
     "read_only": false
    }
   },
   "source": [
    "#### 92. Consider a large vector Z, compute Z to the power of 3 using 3 different methods (★★★)"
   ]
  },
  {
   "cell_type": "code",
   "execution_count": null,
   "metadata": {
    "button": false,
    "collapsed": true,
    "new_sheet": false,
    "run_control": {
     "read_only": false
    }
   },
   "outputs": [],
   "source": []
  },
  {
   "cell_type": "markdown",
   "metadata": {
    "button": false,
    "new_sheet": false,
    "run_control": {
     "read_only": false
    }
   },
   "source": [
    "#### 93. Consider two arrays A and B of shape (8,3) and (2,2). How to find rows of A that contain elements of each row of B regardless of the order of the elements in B? (★★★)"
   ]
  },
  {
   "cell_type": "code",
   "execution_count": null,
   "metadata": {
    "button": false,
    "collapsed": true,
    "new_sheet": false,
    "run_control": {
     "read_only": false
    }
   },
   "outputs": [],
   "source": []
  },
  {
   "cell_type": "markdown",
   "metadata": {
    "button": false,
    "new_sheet": false,
    "run_control": {
     "read_only": false
    }
   },
   "source": [
    "#### 94. Considering a 10x3 matrix, extract rows with unequal values (e.g. \\[2,2,3\\]) (★★★)"
   ]
  },
  {
   "cell_type": "code",
   "execution_count": null,
   "metadata": {
    "button": false,
    "collapsed": true,
    "new_sheet": false,
    "run_control": {
     "read_only": false
    }
   },
   "outputs": [],
   "source": []
  },
  {
   "cell_type": "markdown",
   "metadata": {
    "button": false,
    "new_sheet": false,
    "run_control": {
     "read_only": false
    }
   },
   "source": [
    "#### 95. Convert a vector of ints into a matrix binary representation (★★★)"
   ]
  },
  {
   "cell_type": "code",
   "execution_count": null,
   "metadata": {
    "button": false,
    "collapsed": true,
    "new_sheet": false,
    "run_control": {
     "read_only": false
    }
   },
   "outputs": [],
   "source": []
  },
  {
   "cell_type": "markdown",
   "metadata": {
    "button": false,
    "new_sheet": false,
    "run_control": {
     "read_only": false
    }
   },
   "source": [
    "#### 96. Given a two dimensional array, how to extract unique rows? (★★★)"
   ]
  },
  {
   "cell_type": "code",
   "execution_count": null,
   "metadata": {
    "button": false,
    "collapsed": true,
    "new_sheet": false,
    "run_control": {
     "read_only": false
    }
   },
   "outputs": [],
   "source": []
  },
  {
   "cell_type": "markdown",
   "metadata": {
    "button": false,
    "new_sheet": false,
    "run_control": {
     "read_only": false
    }
   },
   "source": [
    "#### 97. Considering 2 vectors A & B, write the einsum equivalent of inner, outer, sum, and mul function (★★★)"
   ]
  },
  {
   "cell_type": "code",
   "execution_count": null,
   "metadata": {
    "button": false,
    "collapsed": true,
    "new_sheet": false,
    "run_control": {
     "read_only": false
    }
   },
   "outputs": [],
   "source": []
  },
  {
   "cell_type": "markdown",
   "metadata": {
    "button": false,
    "new_sheet": false,
    "run_control": {
     "read_only": false
    }
   },
   "source": [
    "#### 98. Considering a path described by two vectors (X,Y), how to sample it using equidistant samples (★★★)?"
   ]
  },
  {
   "cell_type": "code",
   "execution_count": null,
   "metadata": {
    "button": false,
    "collapsed": true,
    "new_sheet": false,
    "run_control": {
     "read_only": false
    }
   },
   "outputs": [],
   "source": []
  },
  {
   "cell_type": "markdown",
   "metadata": {
    "button": false,
    "new_sheet": false,
    "run_control": {
     "read_only": false
    }
   },
   "source": [
    "#### 99. Given an integer n and a 2D array X, select from X the rows which can be interpreted as draws from a multinomial distribution with n degrees, i.e., the rows which only contain integers and which sum to n. (★★★)"
   ]
  },
  {
   "cell_type": "code",
   "execution_count": null,
   "metadata": {
    "button": false,
    "collapsed": true,
    "new_sheet": false,
    "run_control": {
     "read_only": false
    }
   },
   "outputs": [],
   "source": []
  },
  {
   "cell_type": "markdown",
   "metadata": {
    "button": false,
    "new_sheet": false,
    "run_control": {
     "read_only": false
    }
   },
   "source": [
    "#### 100. Compute bootstrapped 95% confidence intervals for the mean of a 1D array X (i.e., resample the elements of an array with replacement N times, compute the mean of each sample, and then compute percentiles over the means). (★★★)"
   ]
  },
  {
   "cell_type": "code",
   "execution_count": null,
   "metadata": {
    "button": false,
    "collapsed": true,
    "new_sheet": false,
    "run_control": {
     "read_only": false
    }
   },
   "outputs": [],
   "source": []
  }
 ],
 "metadata": {
  "kernelspec": {
   "display_name": "Python 3",
   "language": "python",
   "name": "python3"
  },
  "language_info": {
   "codemirror_mode": {
    "name": "ipython",
    "version": 3
   },
   "file_extension": ".py",
   "mimetype": "text/x-python",
   "name": "python",
   "nbconvert_exporter": "python",
   "pygments_lexer": "ipython3",
   "version": "3.6.1"
  }
 },
 "nbformat": 4,
 "nbformat_minor": 1
}
